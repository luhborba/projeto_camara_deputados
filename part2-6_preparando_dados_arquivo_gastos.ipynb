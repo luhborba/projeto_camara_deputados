{
  "nbformat": 4,
  "nbformat_minor": 0,
  "metadata": {
    "colab": {
      "provenance": []
    },
    "kernelspec": {
      "name": "python3",
      "display_name": "Python 3"
    },
    "language_info": {
      "name": "python"
    }
  },
  "cells": [
    {
      "cell_type": "code",
      "execution_count": null,
      "metadata": {
        "colab": {
          "base_uri": "https://localhost:8080/"
        },
        "id": "UU2O7fT75BoJ",
        "outputId": "59371892-f905-4d23-b176-50de114d87f0"
      },
      "outputs": [
        {
          "output_type": "stream",
          "name": "stdout",
          "text": [
            "Collecting pyspark\n",
            "  Downloading pyspark-3.5.0.tar.gz (316.9 MB)\n",
            "\u001b[2K     \u001b[90m━━━━━━━━━━━━━━━━━━━━━━━━━━━━━━━━━━━━━━━━\u001b[0m \u001b[32m316.9/316.9 MB\u001b[0m \u001b[31m3.3 MB/s\u001b[0m eta \u001b[36m0:00:00\u001b[0m\n",
            "\u001b[?25h  Preparing metadata (setup.py) ... \u001b[?25l\u001b[?25hdone\n",
            "Requirement already satisfied: py4j==0.10.9.7 in /usr/local/lib/python3.10/dist-packages (from pyspark) (0.10.9.7)\n",
            "Building wheels for collected packages: pyspark\n",
            "  Building wheel for pyspark (setup.py) ... \u001b[?25l\u001b[?25hdone\n",
            "  Created wheel for pyspark: filename=pyspark-3.5.0-py2.py3-none-any.whl size=317425344 sha256=a2907cf70c8dfb794c7ec64c363506cfaf95f931e00c9920dc919cc73817d8e8\n",
            "  Stored in directory: /root/.cache/pip/wheels/41/4e/10/c2cf2467f71c678cfc8a6b9ac9241e5e44a01940da8fbb17fc\n",
            "Successfully built pyspark\n",
            "Installing collected packages: pyspark\n",
            "Successfully installed pyspark-3.5.0\n"
          ]
        }
      ],
      "source": [
        "!pip install pyspark"
      ]
    },
    {
      "cell_type": "code",
      "source": [
        "from pyspark.sql import SparkSession\n",
        "from pyspark.sql.functions import col, sum, monotonically_increasing_id, count"
      ],
      "metadata": {
        "id": "pP4FIlct6Qt1"
      },
      "execution_count": null,
      "outputs": []
    },
    {
      "cell_type": "code",
      "source": [
        "spark = SparkSession.builder.appName(\"VerificandoGastos\").getOrCreate()"
      ],
      "metadata": {
        "id": "41DZ2wls6jE0"
      },
      "execution_count": null,
      "outputs": []
    },
    {
      "cell_type": "code",
      "source": [
        "spark"
      ],
      "metadata": {
        "colab": {
          "base_uri": "https://localhost:8080/",
          "height": 219
        },
        "id": "-g9WHa2g6rg8",
        "outputId": "f3f3dc4e-b149-473f-b61b-4a1c3b40917c"
      },
      "execution_count": null,
      "outputs": [
        {
          "output_type": "execute_result",
          "data": {
            "text/plain": [
              "<pyspark.sql.session.SparkSession at 0x7bf1b8990790>"
            ],
            "text/html": [
              "\n",
              "            <div>\n",
              "                <p><b>SparkSession - in-memory</b></p>\n",
              "                \n",
              "        <div>\n",
              "            <p><b>SparkContext</b></p>\n",
              "\n",
              "            <p><a href=\"http://5b348672acb6:4040\">Spark UI</a></p>\n",
              "\n",
              "            <dl>\n",
              "              <dt>Version</dt>\n",
              "                <dd><code>v3.5.0</code></dd>\n",
              "              <dt>Master</dt>\n",
              "                <dd><code>local[*]</code></dd>\n",
              "              <dt>AppName</dt>\n",
              "                <dd><code>VerificandoGastos</code></dd>\n",
              "            </dl>\n",
              "        </div>\n",
              "        \n",
              "            </div>\n",
              "        "
            ]
          },
          "metadata": {},
          "execution_count": 4
        }
      ]
    },
    {
      "cell_type": "code",
      "source": [
        "from google.colab import drive\n",
        "drive.mount('/content/drive')"
      ],
      "metadata": {
        "colab": {
          "base_uri": "https://localhost:8080/"
        },
        "id": "gg-FRxbUXGi9",
        "outputId": "c79c7ed3-e9f0-4ba1-dcae-2c382041099b"
      },
      "execution_count": null,
      "outputs": [
        {
          "output_type": "stream",
          "name": "stdout",
          "text": [
            "Mounted at /content/drive\n"
          ]
        }
      ]
    },
    {
      "cell_type": "code",
      "source": [
        "gastos = spark.read.csv('/content/drive/MyDrive/Ano-2023.csv', sep=';', header=True)"
      ],
      "metadata": {
        "id": "1p_bgGm16yiq"
      },
      "execution_count": null,
      "outputs": []
    },
    {
      "cell_type": "code",
      "source": [
        "gastos.count()"
      ],
      "metadata": {
        "colab": {
          "base_uri": "https://localhost:8080/"
        },
        "id": "jPPqlnEg67qC",
        "outputId": "73b53b91-229f-4951-a52a-9c6a28996e5a"
      },
      "execution_count": null,
      "outputs": [
        {
          "output_type": "execute_result",
          "data": {
            "text/plain": [
              "159746"
            ]
          },
          "metadata": {},
          "execution_count": 7
        }
      ]
    },
    {
      "cell_type": "code",
      "source": [
        "gastos.limit(10).show()"
      ],
      "metadata": {
        "colab": {
          "base_uri": "https://localhost:8080/"
        },
        "id": "Dn6aygyD7FpT",
        "outputId": "f929a77e-2940-44be-93dd-30a61a1430b0"
      },
      "execution_count": null,
      "outputs": [
        {
          "output_type": "stream",
          "name": "stdout",
          "text": [
            "+-----------------+----+-----------+---------------------+-------------+----+---------+--------------+----------+--------------------+-----------------------+-------------------------+--------------------+------------------+-----------+----------------+-------------------+------------+--------+----------+------+------+----------+-------------+---------+-------+----------------+-----------------------+--------------+------------+------------+--------------------+\n",
            "|txNomeParlamentar| cpf|ideCadastro|nuCarteiraParlamentar|nuLegislatura|sgUF|sgPartido|codLegislatura|numSubCota|        txtDescricao|numEspecificacaoSubCota|txtDescricaoEspecificacao|       txtFornecedor|        txtCNPJCPF|  txtNumero|indTipoDocumento|         datEmissao|vlrDocumento|vlrGlosa|vlrLiquido|numMes|numAno|numParcela|txtPassageiro|txtTrecho|numLote|numRessarcimento|datPagamentoRestituicao|vlrRestituicao|nuDeputadoId|ideDocumento|        urlDocumento|\n",
            "+-----------------+----+-----------+---------------------+-------------+----+---------+--------------+----------+--------------------+-----------------------+-------------------------+--------------------+------------------+-----------+----------------+-------------------+------------+--------+----------+------+------+----------+-------------+---------+-------+----------------+-----------------------+--------------+------------+------------+--------------------+\n",
            "|       LID.GOV-CD|NULL|       NULL|                 NULL|         2023|  NA|     NULL|            57|         1|MANUTENÇÃO DE ESC...|                      0|                     NULL|AMORETTO CAFES EX...|085.324.290/0013-1|00000000074|               0|2023-02-07T00:00:00|         899|       0|       899|     2|  2023|         0|         NULL|     NULL|1911524|            NULL|                   NULL|          NULL|        2812|     7503781|https://www.camar...|\n",
            "|       LID.GOV-CD|NULL|       NULL|                 NULL|         2023|  NA|     NULL|            57|         1|MANUTENÇÃO DE ESC...|                      0|                     NULL|AMORETTO CAFES EX...|085.324.290/0013-1|00000000386|               0|2023-06-06T00:00:00|         899|       0|       899|     6|  2023|         0|         NULL|     NULL|1948548|            NULL|                   NULL|          NULL|        2812|     7570656|https://www.camar...|\n",
            "|       LID.GOV-CD|NULL|       NULL|                 NULL|         2023|  NA|     NULL|            57|         1|MANUTENÇÃO DE ESC...|                      0|                     NULL|AMORETTO CAFES EX...|085.324.290/0013-1|00000000466|               0|2023-07-12T00:00:00|         899|       0|       899|     7|  2023|         0|         NULL|     NULL|1954294|            NULL|                   NULL|          NULL|        2812|     7580960|https://www.camar...|\n",
            "|       LID.GOV-CD|NULL|       NULL|                 NULL|         2023|  NA|     NULL|            57|         1|MANUTENÇÃO DE ESC...|                      0|                     NULL|AMORETTO CAFES EX...|085.324.290/0013-1|00000000535|               0|2023-08-03T00:00:00|         899|       0|       899|     8|  2023|         0|         NULL|     NULL|1963418|            NULL|                   NULL|          NULL|        2812|     7599444|https://www.camar...|\n",
            "|       LID.GOV-CD|NULL|       NULL|                 NULL|         2023|  NA|     NULL|            57|         1|MANUTENÇÃO DE ESC...|                      0|                     NULL|AMORETTO CAFES EX...|085.324.290/0013-1|00000000625|               0|2023-09-12T00:00:00|         899|       0|       899|     9|  2023|         0|         NULL|     NULL|1975208|            NULL|                   NULL|          NULL|        2812|     7620412|https://www.camar...|\n",
            "|       LID.GOV-CD|NULL|       NULL|                 NULL|         2023|  NA|     NULL|            57|         1|MANUTENÇÃO DE ESC...|                      0|                     NULL|AMORETTO CAFES EX...|085.324.290/0013-1| 0000000141|               0|2023-03-09T00:00:00|         899|       0|       899|     3|  2023|         0|         NULL|     NULL|1922139|            NULL|                   NULL|          NULL|        2812|     7522817|https://www.camar...|\n",
            "|       LID.GOV-CD|NULL|       NULL|                 NULL|         2023|  NA|     NULL|            57|         1|MANUTENÇÃO DE ESC...|                      0|                     NULL|AMORETTO CAFES EX...|085.324.290/0013-1|        214|               0|2023-04-10T00:00:00|         899|       0|       899|     4|  2023|         0|         NULL|     NULL|1928655|            NULL|                   NULL|          NULL|        2812|     7534930|https://www.camar...|\n",
            "|       LID.GOV-CD|NULL|       NULL|                 NULL|         2023|  NA|     NULL|            57|         1|MANUTENÇÃO DE ESC...|                      0|                     NULL|AMORETTO CAFES EX...|085.324.290/0013-1|        301|               0|2023-05-10T00:00:00|         899|       0|       899|     5|  2023|         0|         NULL|     NULL|1939355|            NULL|                   NULL|          NULL|        2812|     7553911|https://www.camar...|\n",
            "|       LID.GOV-CD|NULL|       NULL|                 NULL|         2023|  NA|     NULL|            57|         1|MANUTENÇÃO DE ESC...|                      0|                     NULL|COMERCIAL PAPIROS...|000.192.990/0012-6|     134016|               4|2023-03-09T00:00:00|         173|       0|       173|     3|  2023|         0|         NULL|     NULL|1914685|            NULL|                   NULL|          NULL|        2812|     7509632|https://www.camar...|\n",
            "|       LID.GOV-CD|NULL|       NULL|                 NULL|         2023|  NA|     NULL|            57|         1|MANUTENÇÃO DE ESC...|                      0|                     NULL|CONNECT INFORMATI...|361.127.500/0010-0|       1239|               4|2023-08-28T00:00:00|       208.1|       0|     208.1|     8|  2023|         0|         NULL|     NULL|1959098|            NULL|                   NULL|          NULL|        2812|     7591098|https://www.camar...|\n",
            "+-----------------+----+-----------+---------------------+-------------+----+---------+--------------+----------+--------------------+-----------------------+-------------------------+--------------------+------------------+-----------+----------------+-------------------+------------+--------+----------+------+------+----------+-------------+---------+-------+----------------+-----------------------+--------------+------------+------------+--------------------+\n",
            "\n"
          ]
        }
      ]
    },
    {
      "cell_type": "code",
      "source": [
        "gastos.printSchema()"
      ],
      "metadata": {
        "colab": {
          "base_uri": "https://localhost:8080/"
        },
        "id": "Tpg9m88r7Jtg",
        "outputId": "30aa4f53-8ff6-4845-8024-f7391671785b"
      },
      "execution_count": null,
      "outputs": [
        {
          "output_type": "stream",
          "name": "stdout",
          "text": [
            "root\n",
            " |-- txNomeParlamentar: string (nullable = true)\n",
            " |-- cpf: string (nullable = true)\n",
            " |-- ideCadastro: string (nullable = true)\n",
            " |-- nuCarteiraParlamentar: string (nullable = true)\n",
            " |-- nuLegislatura: string (nullable = true)\n",
            " |-- sgUF: string (nullable = true)\n",
            " |-- sgPartido: string (nullable = true)\n",
            " |-- codLegislatura: string (nullable = true)\n",
            " |-- numSubCota: string (nullable = true)\n",
            " |-- txtDescricao: string (nullable = true)\n",
            " |-- numEspecificacaoSubCota: string (nullable = true)\n",
            " |-- txtDescricaoEspecificacao: string (nullable = true)\n",
            " |-- txtFornecedor: string (nullable = true)\n",
            " |-- txtCNPJCPF: string (nullable = true)\n",
            " |-- txtNumero: string (nullable = true)\n",
            " |-- indTipoDocumento: string (nullable = true)\n",
            " |-- datEmissao: string (nullable = true)\n",
            " |-- vlrDocumento: string (nullable = true)\n",
            " |-- vlrGlosa: string (nullable = true)\n",
            " |-- vlrLiquido: string (nullable = true)\n",
            " |-- numMes: string (nullable = true)\n",
            " |-- numAno: string (nullable = true)\n",
            " |-- numParcela: string (nullable = true)\n",
            " |-- txtPassageiro: string (nullable = true)\n",
            " |-- txtTrecho: string (nullable = true)\n",
            " |-- numLote: string (nullable = true)\n",
            " |-- numRessarcimento: string (nullable = true)\n",
            " |-- datPagamentoRestituicao: string (nullable = true)\n",
            " |-- vlrRestituicao: string (nullable = true)\n",
            " |-- nuDeputadoId: string (nullable = true)\n",
            " |-- ideDocumento: string (nullable = true)\n",
            " |-- urlDocumento: string (nullable = true)\n",
            "\n"
          ]
        }
      ]
    },
    {
      "cell_type": "code",
      "source": [
        "gastos.select([sum(col(col_name).isNull().cast('int')).alias(col_name) for col_name in gastos.columns]).show()"
      ],
      "metadata": {
        "colab": {
          "base_uri": "https://localhost:8080/"
        },
        "id": "7gHCjbjw7Z3i",
        "outputId": "05389536-40e6-402f-d705-25eeb44fb4b4"
      },
      "execution_count": null,
      "outputs": [
        {
          "output_type": "stream",
          "name": "stdout",
          "text": [
            "+-----------------+---+-----------+---------------------+-------------+----+---------+--------------+----------+------------+-----------------------+-------------------------+-------------+----------+---------+----------------+----------+------------+--------+----------+------+------+----------+-------------+---------+-------+----------------+-----------------------+--------------+------------+------------+------------+\n",
            "|txNomeParlamentar|cpf|ideCadastro|nuCarteiraParlamentar|nuLegislatura|sgUF|sgPartido|codLegislatura|numSubCota|txtDescricao|numEspecificacaoSubCota|txtDescricaoEspecificacao|txtFornecedor|txtCNPJCPF|txtNumero|indTipoDocumento|datEmissao|vlrDocumento|vlrGlosa|vlrLiquido|numMes|numAno|numParcela|txtPassageiro|txtTrecho|numLote|numRessarcimento|datPagamentoRestituicao|vlrRestituicao|nuDeputadoId|ideDocumento|urlDocumento|\n",
            "+-----------------+---+-----------+---------------------+-------------+----+---------+--------------+----------+------------+-----------------------+-------------------------+-------------+----------+---------+----------------+----------+------------+--------+----------+------+------+----------+-------------+---------+-------+----------------+-----------------------+--------------+------------+------------+------------+\n",
            "|                0|663|        615|                  619|            4|   0|      615|             4|         4|           4|                      4|                   107459|            4|     35015|        4|               4|       517|           4|       4|         4|     4|     4|         4|       123246|   123369|      8|          121069|                 159689|        159689|           8|           8|       43456|\n",
            "+-----------------+---+-----------+---------------------+-------------+----+---------+--------------+----------+------------+-----------------------+-------------------------+-------------+----------+---------+----------------+----------+------------+--------+----------+------+------+----------+-------------+---------+-------+----------------+-----------------------+--------------+------------+------------+------------+\n",
            "\n"
          ]
        }
      ]
    },
    {
      "cell_type": "code",
      "source": [
        "gastos = gastos.where('nuLegislatura == \"2023\"')\n",
        "gastos.count()"
      ],
      "metadata": {
        "colab": {
          "base_uri": "https://localhost:8080/"
        },
        "id": "Kak73X1b7vLA",
        "outputId": "3f59d524-28b3-41a0-ce29-8e1b1ff2bfa8"
      },
      "execution_count": null,
      "outputs": [
        {
          "output_type": "execute_result",
          "data": {
            "text/plain": [
              "146539"
            ]
          },
          "metadata": {},
          "execution_count": 11
        }
      ]
    },
    {
      "cell_type": "code",
      "source": [
        "gastos.select([sum(col(col_name).isNull().cast('int')).alias(col_name) for col_name in gastos.columns]).show()"
      ],
      "metadata": {
        "colab": {
          "base_uri": "https://localhost:8080/"
        },
        "id": "k_M6fQFZ8PfR",
        "outputId": "7d34f726-ef9a-4b90-8f5f-d07c5720b896"
      },
      "execution_count": null,
      "outputs": [
        {
          "output_type": "stream",
          "name": "stdout",
          "text": [
            "+-----------------+---+-----------+---------------------+-------------+----+---------+--------------+----------+------------+-----------------------+-------------------------+-------------+----------+---------+----------------+----------+------------+--------+----------+------+------+----------+-------------+---------+-------+----------------+-----------------------+--------------+------------+------------+------------+\n",
            "|txNomeParlamentar|cpf|ideCadastro|nuCarteiraParlamentar|nuLegislatura|sgUF|sgPartido|codLegislatura|numSubCota|txtDescricao|numEspecificacaoSubCota|txtDescricaoEspecificacao|txtFornecedor|txtCNPJCPF|txtNumero|indTipoDocumento|datEmissao|vlrDocumento|vlrGlosa|vlrLiquido|numMes|numAno|numParcela|txtPassageiro|txtTrecho|numLote|numRessarcimento|datPagamentoRestituicao|vlrRestituicao|nuDeputadoId|ideDocumento|urlDocumento|\n",
            "+-----------------+---+-----------+---------------------+-------------+----+---------+--------------+----------+------------+-----------------------+-------------------------+-------------+----------+---------+----------------+----------+------------+--------+----------+------+------+----------+-------------+---------+-------+----------------+-----------------------+--------------+------------+------------+------------+\n",
            "|                0|622|        592|                  592|            0|   0|      592|             0|         0|           0|                      0|                    97399|            0|     31882|        0|               0|         0|           0|       0|         0|     0|     0|         0|       113395|   113505|      4|          112702|                 146483|        146483|           4|           4|       38092|\n",
            "+-----------------+---+-----------+---------------------+-------------+----+---------+--------------+----------+------------+-----------------------+-------------------------+-------------+----------+---------+----------------+----------+------------+--------+----------+------+------+----------+-------------+---------+-------+----------------+-----------------------+--------------+------------+------------+------------+\n",
            "\n"
          ]
        }
      ]
    },
    {
      "cell_type": "code",
      "source": [
        "deputados = gastos.select('ideCadastro','txNomeParlamentar','cpf','nuDeputadoId','sgUF','codLegislatura')\n",
        "deputados.count()"
      ],
      "metadata": {
        "colab": {
          "base_uri": "https://localhost:8080/"
        },
        "id": "vNLi-0f58Zcg",
        "outputId": "6e7d2703-b738-4626-d0b3-ef20c866ccf5"
      },
      "execution_count": null,
      "outputs": [
        {
          "output_type": "execute_result",
          "data": {
            "text/plain": [
              "146539"
            ]
          },
          "metadata": {},
          "execution_count": 13
        }
      ]
    },
    {
      "cell_type": "code",
      "source": [
        "deputados.show()"
      ],
      "metadata": {
        "colab": {
          "base_uri": "https://localhost:8080/"
        },
        "id": "3sFkbWvQ9WyR",
        "outputId": "df49c3c2-4f75-461e-bd89-66cbe4768c10"
      },
      "execution_count": null,
      "outputs": [
        {
          "output_type": "stream",
          "name": "stdout",
          "text": [
            "+-----------+-----------------+----+------------+----+--------------+\n",
            "|ideCadastro|txNomeParlamentar| cpf|nuDeputadoId|sgUF|codLegislatura|\n",
            "+-----------+-----------------+----+------------+----+--------------+\n",
            "|       NULL|       LID.GOV-CD|NULL|        2812|  NA|            57|\n",
            "|       NULL|       LID.GOV-CD|NULL|        2812|  NA|            57|\n",
            "|       NULL|       LID.GOV-CD|NULL|        2812|  NA|            57|\n",
            "|       NULL|       LID.GOV-CD|NULL|        2812|  NA|            57|\n",
            "|       NULL|       LID.GOV-CD|NULL|        2812|  NA|            57|\n",
            "|       NULL|       LID.GOV-CD|NULL|        2812|  NA|            57|\n",
            "|       NULL|       LID.GOV-CD|NULL|        2812|  NA|            57|\n",
            "|       NULL|       LID.GOV-CD|NULL|        2812|  NA|            57|\n",
            "|       NULL|       LID.GOV-CD|NULL|        2812|  NA|            57|\n",
            "|       NULL|       LID.GOV-CD|NULL|        2812|  NA|            57|\n",
            "|       NULL|       LID.GOV-CD|NULL|        2812|  NA|            57|\n",
            "|       NULL|       LID.GOV-CD|NULL|        2812|  NA|            57|\n",
            "|       NULL|       LID.GOV-CD|NULL|        2812|  NA|            57|\n",
            "|       NULL|       LID.GOV-CD|NULL|        2812|  NA|            57|\n",
            "|       NULL|       LID.GOV-CD|NULL|        2812|  NA|            57|\n",
            "|       NULL|       LID.GOV-CD|NULL|        2812|  NA|            57|\n",
            "|       NULL|       LID.GOV-CD|NULL|        2812|  NA|            57|\n",
            "|       NULL|       LID.GOV-CD|NULL|        2812|  NA|            57|\n",
            "|       NULL|       LID.GOV-CD|NULL|        2812|  NA|            57|\n",
            "|       NULL|       LID.GOV-CD|NULL|        2812|  NA|            57|\n",
            "+-----------+-----------------+----+------------+----+--------------+\n",
            "only showing top 20 rows\n",
            "\n"
          ]
        }
      ]
    },
    {
      "cell_type": "code",
      "source": [
        "deputados = deputados.dropDuplicates()\n",
        "deputados.count()"
      ],
      "metadata": {
        "colab": {
          "base_uri": "https://localhost:8080/"
        },
        "id": "jrQd-4Dm9a7y",
        "outputId": "fffc64b2-1e5c-4cc0-d3bc-7059c20b3c05"
      },
      "execution_count": null,
      "outputs": [
        {
          "output_type": "execute_result",
          "data": {
            "text/plain": [
              "570"
            ]
          },
          "metadata": {},
          "execution_count": 15
        }
      ]
    },
    {
      "cell_type": "code",
      "source": [
        "deputados.show()"
      ],
      "metadata": {
        "colab": {
          "base_uri": "https://localhost:8080/"
        },
        "id": "92ti1rkM9mMh",
        "outputId": "aa250261-574f-47e3-fec1-e283a80fb1b3"
      },
      "execution_count": null,
      "outputs": [
        {
          "output_type": "stream",
          "name": "stdout",
          "text": [
            "+-----------+--------------------+-----------+------------+----+--------------+\n",
            "|ideCadastro|   txNomeParlamentar|        cpf|nuDeputadoId|sgUF|codLegislatura|\n",
            "+-----------+--------------------+-----------+------------+----+--------------+\n",
            "|     143632|       Domingos Neto|02827898390|        2329|  CE|            57|\n",
            "|     178993|Carlos Henrique G...|21944202153|        3023|  TO|            57|\n",
            "|     204394|       Gervásio Maia|88623327420|        3401|  PB|            57|\n",
            "|     116379|      Darci de Matos|44828624953|        3217|  SC|            57|\n",
            "|     204360|     Silvia Cristina|01739396782|        3278|  RO|            57|\n",
            "|      74398|    Maria do Rosário|48989371015|        1605|  RS|            57|\n",
            "|     204408|    Gustinho Ribeiro|82706522534|        3317|  SE|            57|\n",
            "|      73778|   Luiz Carlos Hauly|08682607972|         824|  PR|            57|\n",
            "|      74848|     Jandira Feghali|43428169700|         733|  RJ|            57|\n",
            "|     204441|      Otoni de Paula|07217877709|        3246|  RJ|            57|\n",
            "|      74856|      Laura Carneiro|79401546720|        1118|  RJ|            57|\n",
            "|     160558|  Paulo Freire Costa|93876912849|        2301|  SP|            57|\n",
            "|     160642|       Pastor Eurico|23340541434|        2264|  PE|            57|\n",
            "|     160598|       Flávia Morais|54779537134|        2229|  GO|            57|\n",
            "|     178970|         João Daniel|51625091591|        3073|  SE|            57|\n",
            "|     204379|      Acácio Favacho|74287028287|        3308|  AP|            57|\n",
            "|      73701|   Benedita da Silva|36293334787|         188|  RJ|            57|\n",
            "|     132504|          Enio Verri|39737705904|        2893|  PR|            57|\n",
            "|     152605|       Glauber Braga|09740756719|        2001|  RJ|            57|\n",
            "|     178858|Mário Negromonte Jr.|00031226540|        2996|  BA|            57|\n",
            "+-----------+--------------------+-----------+------------+----+--------------+\n",
            "only showing top 20 rows\n",
            "\n"
          ]
        }
      ]
    },
    {
      "cell_type": "code",
      "source": [
        "deputados = deputados.withColumn('id_deputados', monotonically_increasing_id())\n",
        "deputados.printSchema()"
      ],
      "metadata": {
        "colab": {
          "base_uri": "https://localhost:8080/"
        },
        "id": "ZBWqo5j09qSC",
        "outputId": "373937cd-7205-40e8-e519-c90a297124f6"
      },
      "execution_count": null,
      "outputs": [
        {
          "output_type": "stream",
          "name": "stdout",
          "text": [
            "root\n",
            " |-- ideCadastro: string (nullable = true)\n",
            " |-- txNomeParlamentar: string (nullable = true)\n",
            " |-- cpf: string (nullable = true)\n",
            " |-- nuDeputadoId: string (nullable = true)\n",
            " |-- sgUF: string (nullable = true)\n",
            " |-- codLegislatura: string (nullable = true)\n",
            " |-- id_deputados: long (nullable = false)\n",
            "\n"
          ]
        }
      ]
    },
    {
      "cell_type": "code",
      "source": [
        "deputados = deputados.select('id_deputados','ideCadastro','cpf','txNomeParlamentar','nuDeputadoId','sgUF','codLegislatura')\n",
        "deputados.show()"
      ],
      "metadata": {
        "colab": {
          "base_uri": "https://localhost:8080/"
        },
        "id": "y4XzfDs69-gw",
        "outputId": "87c05c42-ef57-47eb-9255-70c599fbdb05"
      },
      "execution_count": null,
      "outputs": [
        {
          "output_type": "stream",
          "name": "stdout",
          "text": [
            "+------------+-----------+-----------+--------------------+------------+----+--------------+\n",
            "|id_deputados|ideCadastro|        cpf|   txNomeParlamentar|nuDeputadoId|sgUF|codLegislatura|\n",
            "+------------+-----------+-----------+--------------------+------------+----+--------------+\n",
            "|           0|     143632|02827898390|       Domingos Neto|        2329|  CE|            57|\n",
            "|           1|     178993|21944202153|Carlos Henrique G...|        3023|  TO|            57|\n",
            "|           2|     204394|88623327420|       Gervásio Maia|        3401|  PB|            57|\n",
            "|           3|     116379|44828624953|      Darci de Matos|        3217|  SC|            57|\n",
            "|           4|     204360|01739396782|     Silvia Cristina|        3278|  RO|            57|\n",
            "|           5|      74398|48989371015|    Maria do Rosário|        1605|  RS|            57|\n",
            "|           6|     204408|82706522534|    Gustinho Ribeiro|        3317|  SE|            57|\n",
            "|           7|      73778|08682607972|   Luiz Carlos Hauly|         824|  PR|            57|\n",
            "|           8|      74848|43428169700|     Jandira Feghali|         733|  RJ|            57|\n",
            "|           9|     204441|07217877709|      Otoni de Paula|        3246|  RJ|            57|\n",
            "|          10|      74856|79401546720|      Laura Carneiro|        1118|  RJ|            57|\n",
            "|          11|     160558|93876912849|  Paulo Freire Costa|        2301|  SP|            57|\n",
            "|          12|     160642|23340541434|       Pastor Eurico|        2264|  PE|            57|\n",
            "|          13|     160598|54779537134|       Flávia Morais|        2229|  GO|            57|\n",
            "|          14|     178970|51625091591|         João Daniel|        3073|  SE|            57|\n",
            "|          15|     204379|74287028287|      Acácio Favacho|        3308|  AP|            57|\n",
            "|          16|      73701|36293334787|   Benedita da Silva|         188|  RJ|            57|\n",
            "|          17|     132504|39737705904|          Enio Verri|        2893|  PR|            57|\n",
            "|          18|     152605|09740756719|       Glauber Braga|        2001|  RJ|            57|\n",
            "|          19|     178858|00031226540|Mário Negromonte Jr.|        2996|  BA|            57|\n",
            "+------------+-----------+-----------+--------------------+------------+----+--------------+\n",
            "only showing top 20 rows\n",
            "\n"
          ]
        }
      ]
    },
    {
      "cell_type": "code",
      "source": [
        "gastos.printSchema()"
      ],
      "metadata": {
        "colab": {
          "base_uri": "https://localhost:8080/"
        },
        "id": "rjN5d3uFZxDX",
        "outputId": "b7db1c91-2fd0-4b08-9c98-2f4d82696a80"
      },
      "execution_count": null,
      "outputs": [
        {
          "output_type": "stream",
          "name": "stdout",
          "text": [
            "root\n",
            " |-- txNomeParlamentar: string (nullable = true)\n",
            " |-- cpf: string (nullable = true)\n",
            " |-- ideCadastro: string (nullable = true)\n",
            " |-- nuCarteiraParlamentar: string (nullable = true)\n",
            " |-- nuLegislatura: string (nullable = true)\n",
            " |-- sgUF: string (nullable = true)\n",
            " |-- sgPartido: string (nullable = true)\n",
            " |-- codLegislatura: string (nullable = true)\n",
            " |-- numSubCota: string (nullable = true)\n",
            " |-- txtDescricao: string (nullable = true)\n",
            " |-- numEspecificacaoSubCota: string (nullable = true)\n",
            " |-- txtDescricaoEspecificacao: string (nullable = true)\n",
            " |-- txtFornecedor: string (nullable = true)\n",
            " |-- txtCNPJCPF: string (nullable = true)\n",
            " |-- txtNumero: string (nullable = true)\n",
            " |-- indTipoDocumento: string (nullable = true)\n",
            " |-- datEmissao: string (nullable = true)\n",
            " |-- vlrDocumento: string (nullable = true)\n",
            " |-- vlrGlosa: string (nullable = true)\n",
            " |-- vlrLiquido: string (nullable = true)\n",
            " |-- numMes: string (nullable = true)\n",
            " |-- numAno: string (nullable = true)\n",
            " |-- numParcela: string (nullable = true)\n",
            " |-- txtPassageiro: string (nullable = true)\n",
            " |-- txtTrecho: string (nullable = true)\n",
            " |-- numLote: string (nullable = true)\n",
            " |-- numRessarcimento: string (nullable = true)\n",
            " |-- datPagamentoRestituicao: string (nullable = true)\n",
            " |-- vlrRestituicao: string (nullable = true)\n",
            " |-- nuDeputadoId: string (nullable = true)\n",
            " |-- ideDocumento: string (nullable = true)\n",
            " |-- urlDocumento: string (nullable = true)\n",
            "\n"
          ]
        }
      ]
    },
    {
      "cell_type": "code",
      "source": [
        "empresas = gastos.select('txtFornecedor')\n",
        "empresas.count()"
      ],
      "metadata": {
        "id": "GhBT28Mc-UfT",
        "colab": {
          "base_uri": "https://localhost:8080/"
        },
        "outputId": "47121f0b-fb0c-4de4-aa89-572684e86b38"
      },
      "execution_count": null,
      "outputs": [
        {
          "output_type": "execute_result",
          "data": {
            "text/plain": [
              "146539"
            ]
          },
          "metadata": {},
          "execution_count": 20
        }
      ]
    },
    {
      "cell_type": "code",
      "source": [
        "empresas = empresas.dropDuplicates()\n",
        "empresas.count()"
      ],
      "metadata": {
        "colab": {
          "base_uri": "https://localhost:8080/"
        },
        "id": "qgdW9JNPRZdz",
        "outputId": "95a7033d-686a-4166-908f-37405c46813d"
      },
      "execution_count": null,
      "outputs": [
        {
          "output_type": "execute_result",
          "data": {
            "text/plain": [
              "18298"
            ]
          },
          "metadata": {},
          "execution_count": 21
        }
      ]
    },
    {
      "cell_type": "code",
      "source": [
        "empresas.select([sum(col(col_name).isNull().cast('int')).alias(col_name) for col_name in empresas.columns]).show()"
      ],
      "metadata": {
        "colab": {
          "base_uri": "https://localhost:8080/"
        },
        "id": "U7fJ1msXXsQl",
        "outputId": "ac391961-2922-43a2-ef59-1c3844d79ca7"
      },
      "execution_count": null,
      "outputs": [
        {
          "output_type": "stream",
          "name": "stdout",
          "text": [
            "+-------------+\n",
            "|txtFornecedor|\n",
            "+-------------+\n",
            "|            0|\n",
            "+-------------+\n",
            "\n"
          ]
        }
      ]
    },
    {
      "cell_type": "code",
      "source": [
        "empresas = empresas.withColumn('id_empresas', monotonically_increasing_id())\n",
        "empresas = empresas.select('id_empresas','txtFornecedor')\n",
        "empresas.toPandas()"
      ],
      "metadata": {
        "colab": {
          "base_uri": "https://localhost:8080/",
          "height": 424
        },
        "id": "exK1unRwXzk6",
        "outputId": "2af1382e-4a10-44f3-88f7-38829d9c6fa1"
      },
      "execution_count": null,
      "outputs": [
        {
          "output_type": "execute_result",
          "data": {
            "text/plain": [
              "       id_empresas                                txtFornecedor\n",
              "0                0  EIXINHO L 212 NORTE COM DE COM E DERIV LTDA\n",
              "1                1              GM RIBEIRO DA COSTA RESTAURANTE\n",
              "2                2                           CAREN ROQUE FLORET\n",
              "3                3                      AUTO POSTO CHEGADA LTDA\n",
              "4                4            EMPORIO RESTAURANTE E CAFE EIRELI\n",
              "...            ...                                          ...\n",
              "18293        18293                    ITS TELECOMUNICACOES LTDA\n",
              "18294        18294                       AUTO POSTO TERERE LTDA\n",
              "18295        18295                        J D L SEM CORTES LTDA\n",
              "18296        18296                        AUTO POSTO UNIAO LTDA\n",
              "18297        18297                  IRMAOS ALCANTARA E CIA LTDA\n",
              "\n",
              "[18298 rows x 2 columns]"
            ],
            "text/html": [
              "\n",
              "  <div id=\"df-e2116393-104a-4e76-8e09-81b2ddc55d62\" class=\"colab-df-container\">\n",
              "    <div>\n",
              "<style scoped>\n",
              "    .dataframe tbody tr th:only-of-type {\n",
              "        vertical-align: middle;\n",
              "    }\n",
              "\n",
              "    .dataframe tbody tr th {\n",
              "        vertical-align: top;\n",
              "    }\n",
              "\n",
              "    .dataframe thead th {\n",
              "        text-align: right;\n",
              "    }\n",
              "</style>\n",
              "<table border=\"1\" class=\"dataframe\">\n",
              "  <thead>\n",
              "    <tr style=\"text-align: right;\">\n",
              "      <th></th>\n",
              "      <th>id_empresas</th>\n",
              "      <th>txtFornecedor</th>\n",
              "    </tr>\n",
              "  </thead>\n",
              "  <tbody>\n",
              "    <tr>\n",
              "      <th>0</th>\n",
              "      <td>0</td>\n",
              "      <td>EIXINHO L 212 NORTE COM DE COM E DERIV LTDA</td>\n",
              "    </tr>\n",
              "    <tr>\n",
              "      <th>1</th>\n",
              "      <td>1</td>\n",
              "      <td>GM RIBEIRO DA COSTA RESTAURANTE</td>\n",
              "    </tr>\n",
              "    <tr>\n",
              "      <th>2</th>\n",
              "      <td>2</td>\n",
              "      <td>CAREN ROQUE FLORET</td>\n",
              "    </tr>\n",
              "    <tr>\n",
              "      <th>3</th>\n",
              "      <td>3</td>\n",
              "      <td>AUTO POSTO CHEGADA LTDA</td>\n",
              "    </tr>\n",
              "    <tr>\n",
              "      <th>4</th>\n",
              "      <td>4</td>\n",
              "      <td>EMPORIO RESTAURANTE E CAFE EIRELI</td>\n",
              "    </tr>\n",
              "    <tr>\n",
              "      <th>...</th>\n",
              "      <td>...</td>\n",
              "      <td>...</td>\n",
              "    </tr>\n",
              "    <tr>\n",
              "      <th>18293</th>\n",
              "      <td>18293</td>\n",
              "      <td>ITS TELECOMUNICACOES LTDA</td>\n",
              "    </tr>\n",
              "    <tr>\n",
              "      <th>18294</th>\n",
              "      <td>18294</td>\n",
              "      <td>AUTO POSTO TERERE LTDA</td>\n",
              "    </tr>\n",
              "    <tr>\n",
              "      <th>18295</th>\n",
              "      <td>18295</td>\n",
              "      <td>J D L SEM CORTES LTDA</td>\n",
              "    </tr>\n",
              "    <tr>\n",
              "      <th>18296</th>\n",
              "      <td>18296</td>\n",
              "      <td>AUTO POSTO UNIAO LTDA</td>\n",
              "    </tr>\n",
              "    <tr>\n",
              "      <th>18297</th>\n",
              "      <td>18297</td>\n",
              "      <td>IRMAOS ALCANTARA E CIA LTDA</td>\n",
              "    </tr>\n",
              "  </tbody>\n",
              "</table>\n",
              "<p>18298 rows × 2 columns</p>\n",
              "</div>\n",
              "    <div class=\"colab-df-buttons\">\n",
              "\n",
              "  <div class=\"colab-df-container\">\n",
              "    <button class=\"colab-df-convert\" onclick=\"convertToInteractive('df-e2116393-104a-4e76-8e09-81b2ddc55d62')\"\n",
              "            title=\"Convert this dataframe to an interactive table.\"\n",
              "            style=\"display:none;\">\n",
              "\n",
              "  <svg xmlns=\"http://www.w3.org/2000/svg\" height=\"24px\" viewBox=\"0 -960 960 960\">\n",
              "    <path d=\"M120-120v-720h720v720H120Zm60-500h600v-160H180v160Zm220 220h160v-160H400v160Zm0 220h160v-160H400v160ZM180-400h160v-160H180v160Zm440 0h160v-160H620v160ZM180-180h160v-160H180v160Zm440 0h160v-160H620v160Z\"/>\n",
              "  </svg>\n",
              "    </button>\n",
              "\n",
              "  <style>\n",
              "    .colab-df-container {\n",
              "      display:flex;\n",
              "      gap: 12px;\n",
              "    }\n",
              "\n",
              "    .colab-df-convert {\n",
              "      background-color: #E8F0FE;\n",
              "      border: none;\n",
              "      border-radius: 50%;\n",
              "      cursor: pointer;\n",
              "      display: none;\n",
              "      fill: #1967D2;\n",
              "      height: 32px;\n",
              "      padding: 0 0 0 0;\n",
              "      width: 32px;\n",
              "    }\n",
              "\n",
              "    .colab-df-convert:hover {\n",
              "      background-color: #E2EBFA;\n",
              "      box-shadow: 0px 1px 2px rgba(60, 64, 67, 0.3), 0px 1px 3px 1px rgba(60, 64, 67, 0.15);\n",
              "      fill: #174EA6;\n",
              "    }\n",
              "\n",
              "    .colab-df-buttons div {\n",
              "      margin-bottom: 4px;\n",
              "    }\n",
              "\n",
              "    [theme=dark] .colab-df-convert {\n",
              "      background-color: #3B4455;\n",
              "      fill: #D2E3FC;\n",
              "    }\n",
              "\n",
              "    [theme=dark] .colab-df-convert:hover {\n",
              "      background-color: #434B5C;\n",
              "      box-shadow: 0px 1px 3px 1px rgba(0, 0, 0, 0.15);\n",
              "      filter: drop-shadow(0px 1px 2px rgba(0, 0, 0, 0.3));\n",
              "      fill: #FFFFFF;\n",
              "    }\n",
              "  </style>\n",
              "\n",
              "    <script>\n",
              "      const buttonEl =\n",
              "        document.querySelector('#df-e2116393-104a-4e76-8e09-81b2ddc55d62 button.colab-df-convert');\n",
              "      buttonEl.style.display =\n",
              "        google.colab.kernel.accessAllowed ? 'block' : 'none';\n",
              "\n",
              "      async function convertToInteractive(key) {\n",
              "        const element = document.querySelector('#df-e2116393-104a-4e76-8e09-81b2ddc55d62');\n",
              "        const dataTable =\n",
              "          await google.colab.kernel.invokeFunction('convertToInteractive',\n",
              "                                                    [key], {});\n",
              "        if (!dataTable) return;\n",
              "\n",
              "        const docLinkHtml = 'Like what you see? Visit the ' +\n",
              "          '<a target=\"_blank\" href=https://colab.research.google.com/notebooks/data_table.ipynb>data table notebook</a>'\n",
              "          + ' to learn more about interactive tables.';\n",
              "        element.innerHTML = '';\n",
              "        dataTable['output_type'] = 'display_data';\n",
              "        await google.colab.output.renderOutput(dataTable, element);\n",
              "        const docLink = document.createElement('div');\n",
              "        docLink.innerHTML = docLinkHtml;\n",
              "        element.appendChild(docLink);\n",
              "      }\n",
              "    </script>\n",
              "  </div>\n",
              "\n",
              "\n",
              "<div id=\"df-8dc655dd-13e4-47fa-ab2b-75168494e002\">\n",
              "  <button class=\"colab-df-quickchart\" onclick=\"quickchart('df-8dc655dd-13e4-47fa-ab2b-75168494e002')\"\n",
              "            title=\"Suggest charts\"\n",
              "            style=\"display:none;\">\n",
              "\n",
              "<svg xmlns=\"http://www.w3.org/2000/svg\" height=\"24px\"viewBox=\"0 0 24 24\"\n",
              "     width=\"24px\">\n",
              "    <g>\n",
              "        <path d=\"M19 3H5c-1.1 0-2 .9-2 2v14c0 1.1.9 2 2 2h14c1.1 0 2-.9 2-2V5c0-1.1-.9-2-2-2zM9 17H7v-7h2v7zm4 0h-2V7h2v10zm4 0h-2v-4h2v4z\"/>\n",
              "    </g>\n",
              "</svg>\n",
              "  </button>\n",
              "\n",
              "<style>\n",
              "  .colab-df-quickchart {\n",
              "      --bg-color: #E8F0FE;\n",
              "      --fill-color: #1967D2;\n",
              "      --hover-bg-color: #E2EBFA;\n",
              "      --hover-fill-color: #174EA6;\n",
              "      --disabled-fill-color: #AAA;\n",
              "      --disabled-bg-color: #DDD;\n",
              "  }\n",
              "\n",
              "  [theme=dark] .colab-df-quickchart {\n",
              "      --bg-color: #3B4455;\n",
              "      --fill-color: #D2E3FC;\n",
              "      --hover-bg-color: #434B5C;\n",
              "      --hover-fill-color: #FFFFFF;\n",
              "      --disabled-bg-color: #3B4455;\n",
              "      --disabled-fill-color: #666;\n",
              "  }\n",
              "\n",
              "  .colab-df-quickchart {\n",
              "    background-color: var(--bg-color);\n",
              "    border: none;\n",
              "    border-radius: 50%;\n",
              "    cursor: pointer;\n",
              "    display: none;\n",
              "    fill: var(--fill-color);\n",
              "    height: 32px;\n",
              "    padding: 0;\n",
              "    width: 32px;\n",
              "  }\n",
              "\n",
              "  .colab-df-quickchart:hover {\n",
              "    background-color: var(--hover-bg-color);\n",
              "    box-shadow: 0 1px 2px rgba(60, 64, 67, 0.3), 0 1px 3px 1px rgba(60, 64, 67, 0.15);\n",
              "    fill: var(--button-hover-fill-color);\n",
              "  }\n",
              "\n",
              "  .colab-df-quickchart-complete:disabled,\n",
              "  .colab-df-quickchart-complete:disabled:hover {\n",
              "    background-color: var(--disabled-bg-color);\n",
              "    fill: var(--disabled-fill-color);\n",
              "    box-shadow: none;\n",
              "  }\n",
              "\n",
              "  .colab-df-spinner {\n",
              "    border: 2px solid var(--fill-color);\n",
              "    border-color: transparent;\n",
              "    border-bottom-color: var(--fill-color);\n",
              "    animation:\n",
              "      spin 1s steps(1) infinite;\n",
              "  }\n",
              "\n",
              "  @keyframes spin {\n",
              "    0% {\n",
              "      border-color: transparent;\n",
              "      border-bottom-color: var(--fill-color);\n",
              "      border-left-color: var(--fill-color);\n",
              "    }\n",
              "    20% {\n",
              "      border-color: transparent;\n",
              "      border-left-color: var(--fill-color);\n",
              "      border-top-color: var(--fill-color);\n",
              "    }\n",
              "    30% {\n",
              "      border-color: transparent;\n",
              "      border-left-color: var(--fill-color);\n",
              "      border-top-color: var(--fill-color);\n",
              "      border-right-color: var(--fill-color);\n",
              "    }\n",
              "    40% {\n",
              "      border-color: transparent;\n",
              "      border-right-color: var(--fill-color);\n",
              "      border-top-color: var(--fill-color);\n",
              "    }\n",
              "    60% {\n",
              "      border-color: transparent;\n",
              "      border-right-color: var(--fill-color);\n",
              "    }\n",
              "    80% {\n",
              "      border-color: transparent;\n",
              "      border-right-color: var(--fill-color);\n",
              "      border-bottom-color: var(--fill-color);\n",
              "    }\n",
              "    90% {\n",
              "      border-color: transparent;\n",
              "      border-bottom-color: var(--fill-color);\n",
              "    }\n",
              "  }\n",
              "</style>\n",
              "\n",
              "  <script>\n",
              "    async function quickchart(key) {\n",
              "      const quickchartButtonEl =\n",
              "        document.querySelector('#' + key + ' button');\n",
              "      quickchartButtonEl.disabled = true;  // To prevent multiple clicks.\n",
              "      quickchartButtonEl.classList.add('colab-df-spinner');\n",
              "      try {\n",
              "        const charts = await google.colab.kernel.invokeFunction(\n",
              "            'suggestCharts', [key], {});\n",
              "      } catch (error) {\n",
              "        console.error('Error during call to suggestCharts:', error);\n",
              "      }\n",
              "      quickchartButtonEl.classList.remove('colab-df-spinner');\n",
              "      quickchartButtonEl.classList.add('colab-df-quickchart-complete');\n",
              "    }\n",
              "    (() => {\n",
              "      let quickchartButtonEl =\n",
              "        document.querySelector('#df-8dc655dd-13e4-47fa-ab2b-75168494e002 button');\n",
              "      quickchartButtonEl.style.display =\n",
              "        google.colab.kernel.accessAllowed ? 'block' : 'none';\n",
              "    })();\n",
              "  </script>\n",
              "</div>\n",
              "    </div>\n",
              "  </div>\n"
            ]
          },
          "metadata": {},
          "execution_count": 23
        }
      ]
    },
    {
      "cell_type": "code",
      "source": [
        "empresas.printSchema()"
      ],
      "metadata": {
        "colab": {
          "base_uri": "https://localhost:8080/"
        },
        "id": "FYSz-1XxYEPr",
        "outputId": "fb20c4e7-2a0d-4dc8-a505-008f5096ce95"
      },
      "execution_count": null,
      "outputs": [
        {
          "output_type": "stream",
          "name": "stdout",
          "text": [
            "root\n",
            " |-- id_empresas: long (nullable = false)\n",
            " |-- txtFornecedor: string (nullable = true)\n",
            "\n"
          ]
        }
      ]
    },
    {
      "cell_type": "code",
      "source": [
        "categoria = gastos.select('txtDescricao')\n",
        "categoria = categoria.dropDuplicates()\n",
        "categoria = categoria.withColumn('id_categoria', monotonically_increasing_id())\n",
        "categoria = categoria.select('id_categoria', 'txtDescricao')\n",
        "categoria.count()"
      ],
      "metadata": {
        "colab": {
          "base_uri": "https://localhost:8080/"
        },
        "id": "BIxyKb5sYLhq",
        "outputId": "20da215e-ca91-46aa-ca72-f7c77824efd7"
      },
      "execution_count": null,
      "outputs": [
        {
          "output_type": "execute_result",
          "data": {
            "text/plain": [
              "19"
            ]
          },
          "metadata": {},
          "execution_count": 25
        }
      ]
    },
    {
      "cell_type": "code",
      "source": [
        "categoria.toPandas()"
      ],
      "metadata": {
        "colab": {
          "base_uri": "https://localhost:8080/",
          "height": 645
        },
        "id": "_tkSjrLCYzW0",
        "outputId": "0c19b34e-34d5-4d61-ba44-74b546e98a67"
      },
      "execution_count": null,
      "outputs": [
        {
          "output_type": "execute_result",
          "data": {
            "text/plain": [
              "    id_categoria                                       txtDescricao\n",
              "0              0                 LOCAÇÃO OU FRETAMENTO DE AERONAVES\n",
              "1              1                                   SERVIÇOS POSTAIS\n",
              "2              2                            PASSAGEM AÉREA - SIGEPA\n",
              "3              3        AQUISIÇÃO DE TOKENS E CERTIFICADOS DIGITAIS\n",
              "4              4                      COMBUSTÍVEIS E LUBRIFICANTES.\n",
              "5              5         FORNECIMENTO DE ALIMENTAÇÃO DO PARLAMENTAR\n",
              "6              6               DIVULGAÇÃO DA ATIVIDADE PARLAMENTAR.\n",
              "7              7  MANUTENÇÃO DE ESCRITÓRIO DE APOIO À ATIVIDADE ...\n",
              "8              8          SERVIÇO DE TÁXI, PEDÁGIO E ESTACIONAMENTO\n",
              "9              9                         PASSAGEM AÉREA - REEMBOLSO\n",
              "10            10                               PASSAGEM AÉREA - RPA\n",
              "11            11        PASSAGENS TERRESTRES, MARÍTIMAS OU FLUVIAIS\n",
              "12            12  SERVIÇO DE SEGURANÇA PRESTADO POR EMPRESA ESPE...\n",
              "13            13  HOSPEDAGEM ,EXCETO DO PARLAMENTAR NO DISTRITO ...\n",
              "14            14      LOCAÇÃO OU FRETAMENTO DE VEÍCULOS AUTOMOTORES\n",
              "15            15               LOCAÇÃO OU FRETAMENTO DE EMBARCAÇÕES\n",
              "16            16                                          TELEFONIA\n",
              "17            17                          ASSINATURA DE PUBLICAÇÕES\n",
              "18            18  PARTICIPAÇÃO EM CURSO, PALESTRA OU EVENTO SIMILAR"
            ],
            "text/html": [
              "\n",
              "  <div id=\"df-3b986cb7-62d0-4e7c-b17a-49c9f94d4e69\" class=\"colab-df-container\">\n",
              "    <div>\n",
              "<style scoped>\n",
              "    .dataframe tbody tr th:only-of-type {\n",
              "        vertical-align: middle;\n",
              "    }\n",
              "\n",
              "    .dataframe tbody tr th {\n",
              "        vertical-align: top;\n",
              "    }\n",
              "\n",
              "    .dataframe thead th {\n",
              "        text-align: right;\n",
              "    }\n",
              "</style>\n",
              "<table border=\"1\" class=\"dataframe\">\n",
              "  <thead>\n",
              "    <tr style=\"text-align: right;\">\n",
              "      <th></th>\n",
              "      <th>id_categoria</th>\n",
              "      <th>txtDescricao</th>\n",
              "    </tr>\n",
              "  </thead>\n",
              "  <tbody>\n",
              "    <tr>\n",
              "      <th>0</th>\n",
              "      <td>0</td>\n",
              "      <td>LOCAÇÃO OU FRETAMENTO DE AERONAVES</td>\n",
              "    </tr>\n",
              "    <tr>\n",
              "      <th>1</th>\n",
              "      <td>1</td>\n",
              "      <td>SERVIÇOS POSTAIS</td>\n",
              "    </tr>\n",
              "    <tr>\n",
              "      <th>2</th>\n",
              "      <td>2</td>\n",
              "      <td>PASSAGEM AÉREA - SIGEPA</td>\n",
              "    </tr>\n",
              "    <tr>\n",
              "      <th>3</th>\n",
              "      <td>3</td>\n",
              "      <td>AQUISIÇÃO DE TOKENS E CERTIFICADOS DIGITAIS</td>\n",
              "    </tr>\n",
              "    <tr>\n",
              "      <th>4</th>\n",
              "      <td>4</td>\n",
              "      <td>COMBUSTÍVEIS E LUBRIFICANTES.</td>\n",
              "    </tr>\n",
              "    <tr>\n",
              "      <th>5</th>\n",
              "      <td>5</td>\n",
              "      <td>FORNECIMENTO DE ALIMENTAÇÃO DO PARLAMENTAR</td>\n",
              "    </tr>\n",
              "    <tr>\n",
              "      <th>6</th>\n",
              "      <td>6</td>\n",
              "      <td>DIVULGAÇÃO DA ATIVIDADE PARLAMENTAR.</td>\n",
              "    </tr>\n",
              "    <tr>\n",
              "      <th>7</th>\n",
              "      <td>7</td>\n",
              "      <td>MANUTENÇÃO DE ESCRITÓRIO DE APOIO À ATIVIDADE ...</td>\n",
              "    </tr>\n",
              "    <tr>\n",
              "      <th>8</th>\n",
              "      <td>8</td>\n",
              "      <td>SERVIÇO DE TÁXI, PEDÁGIO E ESTACIONAMENTO</td>\n",
              "    </tr>\n",
              "    <tr>\n",
              "      <th>9</th>\n",
              "      <td>9</td>\n",
              "      <td>PASSAGEM AÉREA - REEMBOLSO</td>\n",
              "    </tr>\n",
              "    <tr>\n",
              "      <th>10</th>\n",
              "      <td>10</td>\n",
              "      <td>PASSAGEM AÉREA - RPA</td>\n",
              "    </tr>\n",
              "    <tr>\n",
              "      <th>11</th>\n",
              "      <td>11</td>\n",
              "      <td>PASSAGENS TERRESTRES, MARÍTIMAS OU FLUVIAIS</td>\n",
              "    </tr>\n",
              "    <tr>\n",
              "      <th>12</th>\n",
              "      <td>12</td>\n",
              "      <td>SERVIÇO DE SEGURANÇA PRESTADO POR EMPRESA ESPE...</td>\n",
              "    </tr>\n",
              "    <tr>\n",
              "      <th>13</th>\n",
              "      <td>13</td>\n",
              "      <td>HOSPEDAGEM ,EXCETO DO PARLAMENTAR NO DISTRITO ...</td>\n",
              "    </tr>\n",
              "    <tr>\n",
              "      <th>14</th>\n",
              "      <td>14</td>\n",
              "      <td>LOCAÇÃO OU FRETAMENTO DE VEÍCULOS AUTOMOTORES</td>\n",
              "    </tr>\n",
              "    <tr>\n",
              "      <th>15</th>\n",
              "      <td>15</td>\n",
              "      <td>LOCAÇÃO OU FRETAMENTO DE EMBARCAÇÕES</td>\n",
              "    </tr>\n",
              "    <tr>\n",
              "      <th>16</th>\n",
              "      <td>16</td>\n",
              "      <td>TELEFONIA</td>\n",
              "    </tr>\n",
              "    <tr>\n",
              "      <th>17</th>\n",
              "      <td>17</td>\n",
              "      <td>ASSINATURA DE PUBLICAÇÕES</td>\n",
              "    </tr>\n",
              "    <tr>\n",
              "      <th>18</th>\n",
              "      <td>18</td>\n",
              "      <td>PARTICIPAÇÃO EM CURSO, PALESTRA OU EVENTO SIMILAR</td>\n",
              "    </tr>\n",
              "  </tbody>\n",
              "</table>\n",
              "</div>\n",
              "    <div class=\"colab-df-buttons\">\n",
              "\n",
              "  <div class=\"colab-df-container\">\n",
              "    <button class=\"colab-df-convert\" onclick=\"convertToInteractive('df-3b986cb7-62d0-4e7c-b17a-49c9f94d4e69')\"\n",
              "            title=\"Convert this dataframe to an interactive table.\"\n",
              "            style=\"display:none;\">\n",
              "\n",
              "  <svg xmlns=\"http://www.w3.org/2000/svg\" height=\"24px\" viewBox=\"0 -960 960 960\">\n",
              "    <path d=\"M120-120v-720h720v720H120Zm60-500h600v-160H180v160Zm220 220h160v-160H400v160Zm0 220h160v-160H400v160ZM180-400h160v-160H180v160Zm440 0h160v-160H620v160ZM180-180h160v-160H180v160Zm440 0h160v-160H620v160Z\"/>\n",
              "  </svg>\n",
              "    </button>\n",
              "\n",
              "  <style>\n",
              "    .colab-df-container {\n",
              "      display:flex;\n",
              "      gap: 12px;\n",
              "    }\n",
              "\n",
              "    .colab-df-convert {\n",
              "      background-color: #E8F0FE;\n",
              "      border: none;\n",
              "      border-radius: 50%;\n",
              "      cursor: pointer;\n",
              "      display: none;\n",
              "      fill: #1967D2;\n",
              "      height: 32px;\n",
              "      padding: 0 0 0 0;\n",
              "      width: 32px;\n",
              "    }\n",
              "\n",
              "    .colab-df-convert:hover {\n",
              "      background-color: #E2EBFA;\n",
              "      box-shadow: 0px 1px 2px rgba(60, 64, 67, 0.3), 0px 1px 3px 1px rgba(60, 64, 67, 0.15);\n",
              "      fill: #174EA6;\n",
              "    }\n",
              "\n",
              "    .colab-df-buttons div {\n",
              "      margin-bottom: 4px;\n",
              "    }\n",
              "\n",
              "    [theme=dark] .colab-df-convert {\n",
              "      background-color: #3B4455;\n",
              "      fill: #D2E3FC;\n",
              "    }\n",
              "\n",
              "    [theme=dark] .colab-df-convert:hover {\n",
              "      background-color: #434B5C;\n",
              "      box-shadow: 0px 1px 3px 1px rgba(0, 0, 0, 0.15);\n",
              "      filter: drop-shadow(0px 1px 2px rgba(0, 0, 0, 0.3));\n",
              "      fill: #FFFFFF;\n",
              "    }\n",
              "  </style>\n",
              "\n",
              "    <script>\n",
              "      const buttonEl =\n",
              "        document.querySelector('#df-3b986cb7-62d0-4e7c-b17a-49c9f94d4e69 button.colab-df-convert');\n",
              "      buttonEl.style.display =\n",
              "        google.colab.kernel.accessAllowed ? 'block' : 'none';\n",
              "\n",
              "      async function convertToInteractive(key) {\n",
              "        const element = document.querySelector('#df-3b986cb7-62d0-4e7c-b17a-49c9f94d4e69');\n",
              "        const dataTable =\n",
              "          await google.colab.kernel.invokeFunction('convertToInteractive',\n",
              "                                                    [key], {});\n",
              "        if (!dataTable) return;\n",
              "\n",
              "        const docLinkHtml = 'Like what you see? Visit the ' +\n",
              "          '<a target=\"_blank\" href=https://colab.research.google.com/notebooks/data_table.ipynb>data table notebook</a>'\n",
              "          + ' to learn more about interactive tables.';\n",
              "        element.innerHTML = '';\n",
              "        dataTable['output_type'] = 'display_data';\n",
              "        await google.colab.output.renderOutput(dataTable, element);\n",
              "        const docLink = document.createElement('div');\n",
              "        docLink.innerHTML = docLinkHtml;\n",
              "        element.appendChild(docLink);\n",
              "      }\n",
              "    </script>\n",
              "  </div>\n",
              "\n",
              "\n",
              "<div id=\"df-5428a454-8ff5-41bf-8862-ec57a58838cc\">\n",
              "  <button class=\"colab-df-quickchart\" onclick=\"quickchart('df-5428a454-8ff5-41bf-8862-ec57a58838cc')\"\n",
              "            title=\"Suggest charts\"\n",
              "            style=\"display:none;\">\n",
              "\n",
              "<svg xmlns=\"http://www.w3.org/2000/svg\" height=\"24px\"viewBox=\"0 0 24 24\"\n",
              "     width=\"24px\">\n",
              "    <g>\n",
              "        <path d=\"M19 3H5c-1.1 0-2 .9-2 2v14c0 1.1.9 2 2 2h14c1.1 0 2-.9 2-2V5c0-1.1-.9-2-2-2zM9 17H7v-7h2v7zm4 0h-2V7h2v10zm4 0h-2v-4h2v4z\"/>\n",
              "    </g>\n",
              "</svg>\n",
              "  </button>\n",
              "\n",
              "<style>\n",
              "  .colab-df-quickchart {\n",
              "      --bg-color: #E8F0FE;\n",
              "      --fill-color: #1967D2;\n",
              "      --hover-bg-color: #E2EBFA;\n",
              "      --hover-fill-color: #174EA6;\n",
              "      --disabled-fill-color: #AAA;\n",
              "      --disabled-bg-color: #DDD;\n",
              "  }\n",
              "\n",
              "  [theme=dark] .colab-df-quickchart {\n",
              "      --bg-color: #3B4455;\n",
              "      --fill-color: #D2E3FC;\n",
              "      --hover-bg-color: #434B5C;\n",
              "      --hover-fill-color: #FFFFFF;\n",
              "      --disabled-bg-color: #3B4455;\n",
              "      --disabled-fill-color: #666;\n",
              "  }\n",
              "\n",
              "  .colab-df-quickchart {\n",
              "    background-color: var(--bg-color);\n",
              "    border: none;\n",
              "    border-radius: 50%;\n",
              "    cursor: pointer;\n",
              "    display: none;\n",
              "    fill: var(--fill-color);\n",
              "    height: 32px;\n",
              "    padding: 0;\n",
              "    width: 32px;\n",
              "  }\n",
              "\n",
              "  .colab-df-quickchart:hover {\n",
              "    background-color: var(--hover-bg-color);\n",
              "    box-shadow: 0 1px 2px rgba(60, 64, 67, 0.3), 0 1px 3px 1px rgba(60, 64, 67, 0.15);\n",
              "    fill: var(--button-hover-fill-color);\n",
              "  }\n",
              "\n",
              "  .colab-df-quickchart-complete:disabled,\n",
              "  .colab-df-quickchart-complete:disabled:hover {\n",
              "    background-color: var(--disabled-bg-color);\n",
              "    fill: var(--disabled-fill-color);\n",
              "    box-shadow: none;\n",
              "  }\n",
              "\n",
              "  .colab-df-spinner {\n",
              "    border: 2px solid var(--fill-color);\n",
              "    border-color: transparent;\n",
              "    border-bottom-color: var(--fill-color);\n",
              "    animation:\n",
              "      spin 1s steps(1) infinite;\n",
              "  }\n",
              "\n",
              "  @keyframes spin {\n",
              "    0% {\n",
              "      border-color: transparent;\n",
              "      border-bottom-color: var(--fill-color);\n",
              "      border-left-color: var(--fill-color);\n",
              "    }\n",
              "    20% {\n",
              "      border-color: transparent;\n",
              "      border-left-color: var(--fill-color);\n",
              "      border-top-color: var(--fill-color);\n",
              "    }\n",
              "    30% {\n",
              "      border-color: transparent;\n",
              "      border-left-color: var(--fill-color);\n",
              "      border-top-color: var(--fill-color);\n",
              "      border-right-color: var(--fill-color);\n",
              "    }\n",
              "    40% {\n",
              "      border-color: transparent;\n",
              "      border-right-color: var(--fill-color);\n",
              "      border-top-color: var(--fill-color);\n",
              "    }\n",
              "    60% {\n",
              "      border-color: transparent;\n",
              "      border-right-color: var(--fill-color);\n",
              "    }\n",
              "    80% {\n",
              "      border-color: transparent;\n",
              "      border-right-color: var(--fill-color);\n",
              "      border-bottom-color: var(--fill-color);\n",
              "    }\n",
              "    90% {\n",
              "      border-color: transparent;\n",
              "      border-bottom-color: var(--fill-color);\n",
              "    }\n",
              "  }\n",
              "</style>\n",
              "\n",
              "  <script>\n",
              "    async function quickchart(key) {\n",
              "      const quickchartButtonEl =\n",
              "        document.querySelector('#' + key + ' button');\n",
              "      quickchartButtonEl.disabled = true;  // To prevent multiple clicks.\n",
              "      quickchartButtonEl.classList.add('colab-df-spinner');\n",
              "      try {\n",
              "        const charts = await google.colab.kernel.invokeFunction(\n",
              "            'suggestCharts', [key], {});\n",
              "      } catch (error) {\n",
              "        console.error('Error during call to suggestCharts:', error);\n",
              "      }\n",
              "      quickchartButtonEl.classList.remove('colab-df-spinner');\n",
              "      quickchartButtonEl.classList.add('colab-df-quickchart-complete');\n",
              "    }\n",
              "    (() => {\n",
              "      let quickchartButtonEl =\n",
              "        document.querySelector('#df-5428a454-8ff5-41bf-8862-ec57a58838cc button');\n",
              "      quickchartButtonEl.style.display =\n",
              "        google.colab.kernel.accessAllowed ? 'block' : 'none';\n",
              "    })();\n",
              "  </script>\n",
              "</div>\n",
              "    </div>\n",
              "  </div>\n"
            ]
          },
          "metadata": {},
          "execution_count": 26
        }
      ]
    },
    {
      "cell_type": "code",
      "source": [
        "categoria.printSchema()"
      ],
      "metadata": {
        "colab": {
          "base_uri": "https://localhost:8080/"
        },
        "id": "hAJjGjF5ZGXz",
        "outputId": "40c49c7e-8ddf-4939-f969-b9630a6498ea"
      },
      "execution_count": null,
      "outputs": [
        {
          "output_type": "stream",
          "name": "stdout",
          "text": [
            "root\n",
            " |-- id_categoria: long (nullable = false)\n",
            " |-- txtDescricao: string (nullable = true)\n",
            "\n"
          ]
        }
      ]
    },
    {
      "cell_type": "code",
      "source": [
        "gastos.printSchema()"
      ],
      "metadata": {
        "colab": {
          "base_uri": "https://localhost:8080/"
        },
        "id": "yeaFJV_jZNWi",
        "outputId": "ad3514ac-504a-48e5-892a-42412f4b5689"
      },
      "execution_count": null,
      "outputs": [
        {
          "output_type": "stream",
          "name": "stdout",
          "text": [
            "root\n",
            " |-- txNomeParlamentar: string (nullable = true)\n",
            " |-- cpf: string (nullable = true)\n",
            " |-- ideCadastro: string (nullable = true)\n",
            " |-- nuCarteiraParlamentar: string (nullable = true)\n",
            " |-- nuLegislatura: string (nullable = true)\n",
            " |-- sgUF: string (nullable = true)\n",
            " |-- sgPartido: string (nullable = true)\n",
            " |-- codLegislatura: string (nullable = true)\n",
            " |-- numSubCota: string (nullable = true)\n",
            " |-- txtDescricao: string (nullable = true)\n",
            " |-- numEspecificacaoSubCota: string (nullable = true)\n",
            " |-- txtDescricaoEspecificacao: string (nullable = true)\n",
            " |-- txtFornecedor: string (nullable = true)\n",
            " |-- txtCNPJCPF: string (nullable = true)\n",
            " |-- txtNumero: string (nullable = true)\n",
            " |-- indTipoDocumento: string (nullable = true)\n",
            " |-- datEmissao: string (nullable = true)\n",
            " |-- vlrDocumento: string (nullable = true)\n",
            " |-- vlrGlosa: string (nullable = true)\n",
            " |-- vlrLiquido: string (nullable = true)\n",
            " |-- numMes: string (nullable = true)\n",
            " |-- numAno: string (nullable = true)\n",
            " |-- numParcela: string (nullable = true)\n",
            " |-- txtPassageiro: string (nullable = true)\n",
            " |-- txtTrecho: string (nullable = true)\n",
            " |-- numLote: string (nullable = true)\n",
            " |-- numRessarcimento: string (nullable = true)\n",
            " |-- datPagamentoRestituicao: string (nullable = true)\n",
            " |-- vlrRestituicao: string (nullable = true)\n",
            " |-- nuDeputadoId: string (nullable = true)\n",
            " |-- ideDocumento: string (nullable = true)\n",
            " |-- urlDocumento: string (nullable = true)\n",
            "\n"
          ]
        }
      ]
    },
    {
      "cell_type": "code",
      "source": [
        "gastos.createOrReplaceTempView('gastos')\n",
        "deputados.createOrReplaceTempView('deputados')\n",
        "empresas.createOrReplaceTempView('empresas')\n",
        "categoria.createOrReplaceTempView('categoria')"
      ],
      "metadata": {
        "id": "afSPVU-hZ2pQ"
      },
      "execution_count": null,
      "outputs": []
    },
    {
      "cell_type": "code",
      "source": [
        "fato_gastos = spark.sql(\n",
        "    \"\"\"\n",
        "    SELECT\n",
        "        deputados.id_deputados,\n",
        "        categoria.id_categoria,\n",
        "        empresas.id_empresas,\n",
        "        gastos.txtNumero,\n",
        "        gastos.datEmissao,\n",
        "        gastos.vlrDocumento,\n",
        "        gastos.vlrGlosa,\n",
        "        gastos.vlrLiquido,\n",
        "        gastos.numRessarcimento,\n",
        "        gastos.datPagamentoRestituicao,\n",
        "        gastos.vlrRestituicao\n",
        "\n",
        "    FROM gastos\n",
        "\n",
        "    INNER JOIN deputados ON gastos.txNomeParlamentar = deputados.txNomeParlamentar\n",
        "    INNER JOIN categoria ON gastos.txtDescricao = categoria.txtDescricao\n",
        "    INNER JOIN empresas ON gastos.txtFornecedor = empresas.txtFornecedor\n",
        "    \"\"\")"
      ],
      "metadata": {
        "id": "Rcr8d2OcZQ76"
      },
      "execution_count": null,
      "outputs": []
    },
    {
      "cell_type": "code",
      "source": [
        "fato_gastos.count()"
      ],
      "metadata": {
        "colab": {
          "base_uri": "https://localhost:8080/"
        },
        "id": "Dmz-wpVSbnvS",
        "outputId": "a1b9fe31-c543-4c91-ea87-db6dc3637497"
      },
      "execution_count": null,
      "outputs": [
        {
          "output_type": "execute_result",
          "data": {
            "text/plain": [
              "147595"
            ]
          },
          "metadata": {},
          "execution_count": 31
        }
      ]
    },
    {
      "cell_type": "code",
      "source": [
        "fato_gastos.toPandas()"
      ],
      "metadata": {
        "colab": {
          "base_uri": "https://localhost:8080/",
          "height": 617
        },
        "id": "2rb3ecdnbuvk",
        "outputId": "56ce4083-af43-4d34-f5c1-a7d39bf88bd5"
      },
      "execution_count": null,
      "outputs": [
        {
          "output_type": "execute_result",
          "data": {
            "text/plain": [
              "        id_deputados  id_categoria  id_empresas    txtNumero  \\\n",
              "0                553             7         4757  00000000074   \n",
              "1                553             7         4757  00000000386   \n",
              "2                553             7         4757  00000000466   \n",
              "3                553             7         4757  00000000535   \n",
              "4                553             7         4757  00000000625   \n",
              "...              ...           ...          ...          ...   \n",
              "147590           537             6        15703         1789   \n",
              "147591           537             6        13637            3   \n",
              "147592           537             6        17029            7   \n",
              "147593           537             6        12497         1098   \n",
              "147594           537            14         7438         2704   \n",
              "\n",
              "                 datEmissao vlrDocumento vlrGlosa vlrLiquido numRessarcimento  \\\n",
              "0       2023-02-07T00:00:00          899        0        899             None   \n",
              "1       2023-06-06T00:00:00          899        0        899             None   \n",
              "2       2023-07-12T00:00:00          899        0        899             None   \n",
              "3       2023-08-03T00:00:00          899        0        899             None   \n",
              "4       2023-09-12T00:00:00          899        0        899             None   \n",
              "...                     ...          ...      ...        ...              ...   \n",
              "147590  2023-09-21T00:00:00         4500        0       4500             None   \n",
              "147591  2023-09-28T00:00:00         4500        0       4500             None   \n",
              "147592  2023-09-01T00:00:00        10000        0      10000             None   \n",
              "147593  2023-09-18T00:00:00         4500        0       4500             None   \n",
              "147594  2023-08-28T00:00:00         4185        0       4185             None   \n",
              "\n",
              "       datPagamentoRestituicao vlrRestituicao  \n",
              "0                         None           None  \n",
              "1                         None           None  \n",
              "2                         None           None  \n",
              "3                         None           None  \n",
              "4                         None           None  \n",
              "...                        ...            ...  \n",
              "147590                    None           None  \n",
              "147591                    None           None  \n",
              "147592                    None           None  \n",
              "147593                    None           None  \n",
              "147594                    None           None  \n",
              "\n",
              "[147595 rows x 11 columns]"
            ],
            "text/html": [
              "\n",
              "  <div id=\"df-31976cbf-3d84-479b-bc4b-143cf609a2a9\" class=\"colab-df-container\">\n",
              "    <div>\n",
              "<style scoped>\n",
              "    .dataframe tbody tr th:only-of-type {\n",
              "        vertical-align: middle;\n",
              "    }\n",
              "\n",
              "    .dataframe tbody tr th {\n",
              "        vertical-align: top;\n",
              "    }\n",
              "\n",
              "    .dataframe thead th {\n",
              "        text-align: right;\n",
              "    }\n",
              "</style>\n",
              "<table border=\"1\" class=\"dataframe\">\n",
              "  <thead>\n",
              "    <tr style=\"text-align: right;\">\n",
              "      <th></th>\n",
              "      <th>id_deputados</th>\n",
              "      <th>id_categoria</th>\n",
              "      <th>id_empresas</th>\n",
              "      <th>txtNumero</th>\n",
              "      <th>datEmissao</th>\n",
              "      <th>vlrDocumento</th>\n",
              "      <th>vlrGlosa</th>\n",
              "      <th>vlrLiquido</th>\n",
              "      <th>numRessarcimento</th>\n",
              "      <th>datPagamentoRestituicao</th>\n",
              "      <th>vlrRestituicao</th>\n",
              "    </tr>\n",
              "  </thead>\n",
              "  <tbody>\n",
              "    <tr>\n",
              "      <th>0</th>\n",
              "      <td>553</td>\n",
              "      <td>7</td>\n",
              "      <td>4757</td>\n",
              "      <td>00000000074</td>\n",
              "      <td>2023-02-07T00:00:00</td>\n",
              "      <td>899</td>\n",
              "      <td>0</td>\n",
              "      <td>899</td>\n",
              "      <td>None</td>\n",
              "      <td>None</td>\n",
              "      <td>None</td>\n",
              "    </tr>\n",
              "    <tr>\n",
              "      <th>1</th>\n",
              "      <td>553</td>\n",
              "      <td>7</td>\n",
              "      <td>4757</td>\n",
              "      <td>00000000386</td>\n",
              "      <td>2023-06-06T00:00:00</td>\n",
              "      <td>899</td>\n",
              "      <td>0</td>\n",
              "      <td>899</td>\n",
              "      <td>None</td>\n",
              "      <td>None</td>\n",
              "      <td>None</td>\n",
              "    </tr>\n",
              "    <tr>\n",
              "      <th>2</th>\n",
              "      <td>553</td>\n",
              "      <td>7</td>\n",
              "      <td>4757</td>\n",
              "      <td>00000000466</td>\n",
              "      <td>2023-07-12T00:00:00</td>\n",
              "      <td>899</td>\n",
              "      <td>0</td>\n",
              "      <td>899</td>\n",
              "      <td>None</td>\n",
              "      <td>None</td>\n",
              "      <td>None</td>\n",
              "    </tr>\n",
              "    <tr>\n",
              "      <th>3</th>\n",
              "      <td>553</td>\n",
              "      <td>7</td>\n",
              "      <td>4757</td>\n",
              "      <td>00000000535</td>\n",
              "      <td>2023-08-03T00:00:00</td>\n",
              "      <td>899</td>\n",
              "      <td>0</td>\n",
              "      <td>899</td>\n",
              "      <td>None</td>\n",
              "      <td>None</td>\n",
              "      <td>None</td>\n",
              "    </tr>\n",
              "    <tr>\n",
              "      <th>4</th>\n",
              "      <td>553</td>\n",
              "      <td>7</td>\n",
              "      <td>4757</td>\n",
              "      <td>00000000625</td>\n",
              "      <td>2023-09-12T00:00:00</td>\n",
              "      <td>899</td>\n",
              "      <td>0</td>\n",
              "      <td>899</td>\n",
              "      <td>None</td>\n",
              "      <td>None</td>\n",
              "      <td>None</td>\n",
              "    </tr>\n",
              "    <tr>\n",
              "      <th>...</th>\n",
              "      <td>...</td>\n",
              "      <td>...</td>\n",
              "      <td>...</td>\n",
              "      <td>...</td>\n",
              "      <td>...</td>\n",
              "      <td>...</td>\n",
              "      <td>...</td>\n",
              "      <td>...</td>\n",
              "      <td>...</td>\n",
              "      <td>...</td>\n",
              "      <td>...</td>\n",
              "    </tr>\n",
              "    <tr>\n",
              "      <th>147590</th>\n",
              "      <td>537</td>\n",
              "      <td>6</td>\n",
              "      <td>15703</td>\n",
              "      <td>1789</td>\n",
              "      <td>2023-09-21T00:00:00</td>\n",
              "      <td>4500</td>\n",
              "      <td>0</td>\n",
              "      <td>4500</td>\n",
              "      <td>None</td>\n",
              "      <td>None</td>\n",
              "      <td>None</td>\n",
              "    </tr>\n",
              "    <tr>\n",
              "      <th>147591</th>\n",
              "      <td>537</td>\n",
              "      <td>6</td>\n",
              "      <td>13637</td>\n",
              "      <td>3</td>\n",
              "      <td>2023-09-28T00:00:00</td>\n",
              "      <td>4500</td>\n",
              "      <td>0</td>\n",
              "      <td>4500</td>\n",
              "      <td>None</td>\n",
              "      <td>None</td>\n",
              "      <td>None</td>\n",
              "    </tr>\n",
              "    <tr>\n",
              "      <th>147592</th>\n",
              "      <td>537</td>\n",
              "      <td>6</td>\n",
              "      <td>17029</td>\n",
              "      <td>7</td>\n",
              "      <td>2023-09-01T00:00:00</td>\n",
              "      <td>10000</td>\n",
              "      <td>0</td>\n",
              "      <td>10000</td>\n",
              "      <td>None</td>\n",
              "      <td>None</td>\n",
              "      <td>None</td>\n",
              "    </tr>\n",
              "    <tr>\n",
              "      <th>147593</th>\n",
              "      <td>537</td>\n",
              "      <td>6</td>\n",
              "      <td>12497</td>\n",
              "      <td>1098</td>\n",
              "      <td>2023-09-18T00:00:00</td>\n",
              "      <td>4500</td>\n",
              "      <td>0</td>\n",
              "      <td>4500</td>\n",
              "      <td>None</td>\n",
              "      <td>None</td>\n",
              "      <td>None</td>\n",
              "    </tr>\n",
              "    <tr>\n",
              "      <th>147594</th>\n",
              "      <td>537</td>\n",
              "      <td>14</td>\n",
              "      <td>7438</td>\n",
              "      <td>2704</td>\n",
              "      <td>2023-08-28T00:00:00</td>\n",
              "      <td>4185</td>\n",
              "      <td>0</td>\n",
              "      <td>4185</td>\n",
              "      <td>None</td>\n",
              "      <td>None</td>\n",
              "      <td>None</td>\n",
              "    </tr>\n",
              "  </tbody>\n",
              "</table>\n",
              "<p>147595 rows × 11 columns</p>\n",
              "</div>\n",
              "    <div class=\"colab-df-buttons\">\n",
              "\n",
              "  <div class=\"colab-df-container\">\n",
              "    <button class=\"colab-df-convert\" onclick=\"convertToInteractive('df-31976cbf-3d84-479b-bc4b-143cf609a2a9')\"\n",
              "            title=\"Convert this dataframe to an interactive table.\"\n",
              "            style=\"display:none;\">\n",
              "\n",
              "  <svg xmlns=\"http://www.w3.org/2000/svg\" height=\"24px\" viewBox=\"0 -960 960 960\">\n",
              "    <path d=\"M120-120v-720h720v720H120Zm60-500h600v-160H180v160Zm220 220h160v-160H400v160Zm0 220h160v-160H400v160ZM180-400h160v-160H180v160Zm440 0h160v-160H620v160ZM180-180h160v-160H180v160Zm440 0h160v-160H620v160Z\"/>\n",
              "  </svg>\n",
              "    </button>\n",
              "\n",
              "  <style>\n",
              "    .colab-df-container {\n",
              "      display:flex;\n",
              "      gap: 12px;\n",
              "    }\n",
              "\n",
              "    .colab-df-convert {\n",
              "      background-color: #E8F0FE;\n",
              "      border: none;\n",
              "      border-radius: 50%;\n",
              "      cursor: pointer;\n",
              "      display: none;\n",
              "      fill: #1967D2;\n",
              "      height: 32px;\n",
              "      padding: 0 0 0 0;\n",
              "      width: 32px;\n",
              "    }\n",
              "\n",
              "    .colab-df-convert:hover {\n",
              "      background-color: #E2EBFA;\n",
              "      box-shadow: 0px 1px 2px rgba(60, 64, 67, 0.3), 0px 1px 3px 1px rgba(60, 64, 67, 0.15);\n",
              "      fill: #174EA6;\n",
              "    }\n",
              "\n",
              "    .colab-df-buttons div {\n",
              "      margin-bottom: 4px;\n",
              "    }\n",
              "\n",
              "    [theme=dark] .colab-df-convert {\n",
              "      background-color: #3B4455;\n",
              "      fill: #D2E3FC;\n",
              "    }\n",
              "\n",
              "    [theme=dark] .colab-df-convert:hover {\n",
              "      background-color: #434B5C;\n",
              "      box-shadow: 0px 1px 3px 1px rgba(0, 0, 0, 0.15);\n",
              "      filter: drop-shadow(0px 1px 2px rgba(0, 0, 0, 0.3));\n",
              "      fill: #FFFFFF;\n",
              "    }\n",
              "  </style>\n",
              "\n",
              "    <script>\n",
              "      const buttonEl =\n",
              "        document.querySelector('#df-31976cbf-3d84-479b-bc4b-143cf609a2a9 button.colab-df-convert');\n",
              "      buttonEl.style.display =\n",
              "        google.colab.kernel.accessAllowed ? 'block' : 'none';\n",
              "\n",
              "      async function convertToInteractive(key) {\n",
              "        const element = document.querySelector('#df-31976cbf-3d84-479b-bc4b-143cf609a2a9');\n",
              "        const dataTable =\n",
              "          await google.colab.kernel.invokeFunction('convertToInteractive',\n",
              "                                                    [key], {});\n",
              "        if (!dataTable) return;\n",
              "\n",
              "        const docLinkHtml = 'Like what you see? Visit the ' +\n",
              "          '<a target=\"_blank\" href=https://colab.research.google.com/notebooks/data_table.ipynb>data table notebook</a>'\n",
              "          + ' to learn more about interactive tables.';\n",
              "        element.innerHTML = '';\n",
              "        dataTable['output_type'] = 'display_data';\n",
              "        await google.colab.output.renderOutput(dataTable, element);\n",
              "        const docLink = document.createElement('div');\n",
              "        docLink.innerHTML = docLinkHtml;\n",
              "        element.appendChild(docLink);\n",
              "      }\n",
              "    </script>\n",
              "  </div>\n",
              "\n",
              "\n",
              "<div id=\"df-9963c9a2-8019-414e-bb5b-fb4530235f64\">\n",
              "  <button class=\"colab-df-quickchart\" onclick=\"quickchart('df-9963c9a2-8019-414e-bb5b-fb4530235f64')\"\n",
              "            title=\"Suggest charts\"\n",
              "            style=\"display:none;\">\n",
              "\n",
              "<svg xmlns=\"http://www.w3.org/2000/svg\" height=\"24px\"viewBox=\"0 0 24 24\"\n",
              "     width=\"24px\">\n",
              "    <g>\n",
              "        <path d=\"M19 3H5c-1.1 0-2 .9-2 2v14c0 1.1.9 2 2 2h14c1.1 0 2-.9 2-2V5c0-1.1-.9-2-2-2zM9 17H7v-7h2v7zm4 0h-2V7h2v10zm4 0h-2v-4h2v4z\"/>\n",
              "    </g>\n",
              "</svg>\n",
              "  </button>\n",
              "\n",
              "<style>\n",
              "  .colab-df-quickchart {\n",
              "      --bg-color: #E8F0FE;\n",
              "      --fill-color: #1967D2;\n",
              "      --hover-bg-color: #E2EBFA;\n",
              "      --hover-fill-color: #174EA6;\n",
              "      --disabled-fill-color: #AAA;\n",
              "      --disabled-bg-color: #DDD;\n",
              "  }\n",
              "\n",
              "  [theme=dark] .colab-df-quickchart {\n",
              "      --bg-color: #3B4455;\n",
              "      --fill-color: #D2E3FC;\n",
              "      --hover-bg-color: #434B5C;\n",
              "      --hover-fill-color: #FFFFFF;\n",
              "      --disabled-bg-color: #3B4455;\n",
              "      --disabled-fill-color: #666;\n",
              "  }\n",
              "\n",
              "  .colab-df-quickchart {\n",
              "    background-color: var(--bg-color);\n",
              "    border: none;\n",
              "    border-radius: 50%;\n",
              "    cursor: pointer;\n",
              "    display: none;\n",
              "    fill: var(--fill-color);\n",
              "    height: 32px;\n",
              "    padding: 0;\n",
              "    width: 32px;\n",
              "  }\n",
              "\n",
              "  .colab-df-quickchart:hover {\n",
              "    background-color: var(--hover-bg-color);\n",
              "    box-shadow: 0 1px 2px rgba(60, 64, 67, 0.3), 0 1px 3px 1px rgba(60, 64, 67, 0.15);\n",
              "    fill: var(--button-hover-fill-color);\n",
              "  }\n",
              "\n",
              "  .colab-df-quickchart-complete:disabled,\n",
              "  .colab-df-quickchart-complete:disabled:hover {\n",
              "    background-color: var(--disabled-bg-color);\n",
              "    fill: var(--disabled-fill-color);\n",
              "    box-shadow: none;\n",
              "  }\n",
              "\n",
              "  .colab-df-spinner {\n",
              "    border: 2px solid var(--fill-color);\n",
              "    border-color: transparent;\n",
              "    border-bottom-color: var(--fill-color);\n",
              "    animation:\n",
              "      spin 1s steps(1) infinite;\n",
              "  }\n",
              "\n",
              "  @keyframes spin {\n",
              "    0% {\n",
              "      border-color: transparent;\n",
              "      border-bottom-color: var(--fill-color);\n",
              "      border-left-color: var(--fill-color);\n",
              "    }\n",
              "    20% {\n",
              "      border-color: transparent;\n",
              "      border-left-color: var(--fill-color);\n",
              "      border-top-color: var(--fill-color);\n",
              "    }\n",
              "    30% {\n",
              "      border-color: transparent;\n",
              "      border-left-color: var(--fill-color);\n",
              "      border-top-color: var(--fill-color);\n",
              "      border-right-color: var(--fill-color);\n",
              "    }\n",
              "    40% {\n",
              "      border-color: transparent;\n",
              "      border-right-color: var(--fill-color);\n",
              "      border-top-color: var(--fill-color);\n",
              "    }\n",
              "    60% {\n",
              "      border-color: transparent;\n",
              "      border-right-color: var(--fill-color);\n",
              "    }\n",
              "    80% {\n",
              "      border-color: transparent;\n",
              "      border-right-color: var(--fill-color);\n",
              "      border-bottom-color: var(--fill-color);\n",
              "    }\n",
              "    90% {\n",
              "      border-color: transparent;\n",
              "      border-bottom-color: var(--fill-color);\n",
              "    }\n",
              "  }\n",
              "</style>\n",
              "\n",
              "  <script>\n",
              "    async function quickchart(key) {\n",
              "      const quickchartButtonEl =\n",
              "        document.querySelector('#' + key + ' button');\n",
              "      quickchartButtonEl.disabled = true;  // To prevent multiple clicks.\n",
              "      quickchartButtonEl.classList.add('colab-df-spinner');\n",
              "      try {\n",
              "        const charts = await google.colab.kernel.invokeFunction(\n",
              "            'suggestCharts', [key], {});\n",
              "      } catch (error) {\n",
              "        console.error('Error during call to suggestCharts:', error);\n",
              "      }\n",
              "      quickchartButtonEl.classList.remove('colab-df-spinner');\n",
              "      quickchartButtonEl.classList.add('colab-df-quickchart-complete');\n",
              "    }\n",
              "    (() => {\n",
              "      let quickchartButtonEl =\n",
              "        document.querySelector('#df-9963c9a2-8019-414e-bb5b-fb4530235f64 button');\n",
              "      quickchartButtonEl.style.display =\n",
              "        google.colab.kernel.accessAllowed ? 'block' : 'none';\n",
              "    })();\n",
              "  </script>\n",
              "</div>\n",
              "    </div>\n",
              "  </div>\n"
            ]
          },
          "metadata": {},
          "execution_count": 32
        }
      ]
    },
    {
      "cell_type": "code",
      "source": [
        "from pyspark.sql.types import DateType, FloatType, IntegerType, StringType"
      ],
      "metadata": {
        "id": "hMbMvvDOb4Ba"
      },
      "execution_count": null,
      "outputs": []
    },
    {
      "cell_type": "code",
      "source": [
        "#fato_gastos = fato_gastos.withColumn(\"datEmissao\", to_date(fato_gastos['datEmissao'], 'yyyy-MM-dd'))\n",
        "fato_gastos = fato_gastos.withColumn(\"datEmissao\", fato_gastos['datEmissao'].cast(DateType()))\n",
        "fato_gastos.printSchema()"
      ],
      "metadata": {
        "colab": {
          "base_uri": "https://localhost:8080/"
        },
        "id": "VFzfxmMD72IP",
        "outputId": "fb8ea432-6bfd-419c-b0e8-492f4cbbde0b"
      },
      "execution_count": null,
      "outputs": [
        {
          "output_type": "stream",
          "name": "stdout",
          "text": [
            "root\n",
            " |-- id_deputados: long (nullable = false)\n",
            " |-- id_categoria: long (nullable = false)\n",
            " |-- id_empresas: long (nullable = false)\n",
            " |-- txtNumero: string (nullable = true)\n",
            " |-- datEmissao: date (nullable = true)\n",
            " |-- vlrDocumento: string (nullable = true)\n",
            " |-- vlrGlosa: string (nullable = true)\n",
            " |-- vlrLiquido: string (nullable = true)\n",
            " |-- numRessarcimento: string (nullable = true)\n",
            " |-- datPagamentoRestituicao: string (nullable = true)\n",
            " |-- vlrRestituicao: string (nullable = true)\n",
            "\n"
          ]
        }
      ]
    },
    {
      "cell_type": "code",
      "source": [
        "fato_gastos.show()"
      ],
      "metadata": {
        "colab": {
          "base_uri": "https://localhost:8080/"
        },
        "id": "rJSxj5OQ73j_",
        "outputId": "ba0b0627-a594-474e-803d-f2cd2dd26b13"
      },
      "execution_count": null,
      "outputs": [
        {
          "output_type": "stream",
          "name": "stdout",
          "text": [
            "+------------+------------+-----------+-----------+----------+------------+--------+----------+----------------+-----------------------+--------------+\n",
            "|id_deputados|id_categoria|id_empresas|  txtNumero|datEmissao|vlrDocumento|vlrGlosa|vlrLiquido|numRessarcimento|datPagamentoRestituicao|vlrRestituicao|\n",
            "+------------+------------+-----------+-----------+----------+------------+--------+----------+----------------+-----------------------+--------------+\n",
            "|         553|           7|       4757|00000000074|2023-02-07|         899|       0|       899|            NULL|                   NULL|          NULL|\n",
            "|         553|           7|       4757|00000000386|2023-06-06|         899|       0|       899|            NULL|                   NULL|          NULL|\n",
            "|         553|           7|       4757|00000000466|2023-07-12|         899|       0|       899|            NULL|                   NULL|          NULL|\n",
            "|         553|           7|       4757|00000000535|2023-08-03|         899|       0|       899|            NULL|                   NULL|          NULL|\n",
            "|         553|           7|       4757|00000000625|2023-09-12|         899|       0|       899|            NULL|                   NULL|          NULL|\n",
            "|         553|           7|       4757| 0000000141|2023-03-09|         899|       0|       899|            NULL|                   NULL|          NULL|\n",
            "|         553|           7|       4757|        214|2023-04-10|         899|       0|       899|            NULL|                   NULL|          NULL|\n",
            "|         553|           7|       4757|        301|2023-05-10|         899|       0|       899|            NULL|                   NULL|          NULL|\n",
            "|         553|           7|       1845|     134016|2023-03-09|         173|       0|       173|            NULL|                   NULL|          NULL|\n",
            "|         553|           7|       3223|       1239|2023-08-28|       208.1|       0|     208.1|            NULL|                   NULL|          NULL|\n",
            "|         553|           7|       7634|  230310007|2023-03-13|        1560|       0|      1560|            NULL|                   NULL|          NULL|\n",
            "|         553|           7|       7634|     230413|2023-04-13|        1560|       0|      1560|            NULL|                   NULL|          NULL|\n",
            "|         553|           7|       7634|  230513003|2023-05-13|        1560|       0|      1560|            NULL|                   NULL|          NULL|\n",
            "|         553|           7|       7634|  230613003|2023-07-13|        1560|       0|      1560|            NULL|                   NULL|          NULL|\n",
            "|         553|           7|       7634| 230713/004|2023-08-13|        1248|       0|      1248|            NULL|                   NULL|          NULL|\n",
            "|         553|           7|       7634| 230813/002|2023-09-13|         780|       0|       780|            NULL|                   NULL|          NULL|\n",
            "|         553|           4|       3580|     308296|2023-03-26|      220.41|       0|    220.41|            NULL|                   NULL|          NULL|\n",
            "|         553|           4|       3580|     309005|2023-03-29|         150|       0|       150|            NULL|                   NULL|          NULL|\n",
            "|         553|           4|       3580|     309524|2023-03-30|         150|       0|       150|            NULL|                   NULL|          NULL|\n",
            "|         553|           4|       3580|     312052|2023-04-09|         100|       0|       100|            NULL|                   NULL|          NULL|\n",
            "+------------+------------+-----------+-----------+----------+------------+--------+----------+----------------+-----------------------+--------------+\n",
            "only showing top 20 rows\n",
            "\n"
          ]
        }
      ]
    },
    {
      "cell_type": "code",
      "source": [
        "fato_gastos = fato_gastos.withColumn('vlrDocumento', fato_gastos['vlrDocumento'].cast(FloatType()))\n",
        "fato_gastos = fato_gastos.withColumn('vlrGlosa', fato_gastos['vlrGlosa'].cast(FloatType()))\n",
        "fato_gastos = fato_gastos.withColumn('vlrLiquido', fato_gastos['vlrLiquido'].cast(FloatType()))\n",
        "fato_gastos = fato_gastos.withColumn('vlrRestituicao', fato_gastos['vlrRestituicao'].cast(FloatType()))\n",
        "fato_gastos.printSchema()"
      ],
      "metadata": {
        "colab": {
          "base_uri": "https://localhost:8080/"
        },
        "id": "7jcR3wCD74tn",
        "outputId": "f9fa8df7-8a4a-4973-ba92-ad3ca89bf9a5"
      },
      "execution_count": null,
      "outputs": [
        {
          "output_type": "stream",
          "name": "stdout",
          "text": [
            "root\n",
            " |-- id_deputados: long (nullable = false)\n",
            " |-- id_categoria: long (nullable = false)\n",
            " |-- id_empresas: long (nullable = false)\n",
            " |-- txtNumero: string (nullable = true)\n",
            " |-- datEmissao: date (nullable = true)\n",
            " |-- vlrDocumento: float (nullable = true)\n",
            " |-- vlrGlosa: float (nullable = true)\n",
            " |-- vlrLiquido: float (nullable = true)\n",
            " |-- numRessarcimento: string (nullable = true)\n",
            " |-- datPagamentoRestituicao: string (nullable = true)\n",
            " |-- vlrRestituicao: float (nullable = true)\n",
            "\n"
          ]
        }
      ]
    },
    {
      "cell_type": "code",
      "source": [
        "fato_gastos = fato_gastos.withColumn('id_deputados', fato_gastos['id_deputados'].cast(IntegerType()))\n",
        "fato_gastos = fato_gastos.withColumn('id_categoria', fato_gastos['id_categoria'].cast(IntegerType()))\n",
        "fato_gastos.printSchema()"
      ],
      "metadata": {
        "colab": {
          "base_uri": "https://localhost:8080/"
        },
        "id": "1zRjuCRL_Obj",
        "outputId": "389899d2-0bb0-4de2-c7ba-f6bd985a6609"
      },
      "execution_count": null,
      "outputs": [
        {
          "output_type": "stream",
          "name": "stdout",
          "text": [
            "root\n",
            " |-- id_deputados: integer (nullable = false)\n",
            " |-- id_categoria: integer (nullable = false)\n",
            " |-- id_empresas: long (nullable = false)\n",
            " |-- txtNumero: string (nullable = true)\n",
            " |-- datEmissao: date (nullable = true)\n",
            " |-- vlrDocumento: float (nullable = true)\n",
            " |-- vlrGlosa: float (nullable = true)\n",
            " |-- vlrLiquido: float (nullable = true)\n",
            " |-- numRessarcimento: string (nullable = true)\n",
            " |-- datPagamentoRestituicao: string (nullable = true)\n",
            " |-- vlrRestituicao: float (nullable = true)\n",
            "\n"
          ]
        }
      ]
    },
    {
      "cell_type": "code",
      "source": [
        "fato_gastos.show()"
      ],
      "metadata": {
        "colab": {
          "base_uri": "https://localhost:8080/"
        },
        "id": "ee51jjO_76af",
        "outputId": "d2c856ce-079a-47f8-8505-1d6049c28d29"
      },
      "execution_count": null,
      "outputs": [
        {
          "output_type": "stream",
          "name": "stdout",
          "text": [
            "+------------+------------+-----------+-----------+----------+------------+--------+----------+----------------+-----------------------+--------------+\n",
            "|id_deputados|id_categoria|id_empresas|  txtNumero|datEmissao|vlrDocumento|vlrGlosa|vlrLiquido|numRessarcimento|datPagamentoRestituicao|vlrRestituicao|\n",
            "+------------+------------+-----------+-----------+----------+------------+--------+----------+----------------+-----------------------+--------------+\n",
            "|         553|           7|       4757|00000000074|2023-02-07|       899.0|     0.0|     899.0|            NULL|                   NULL|          NULL|\n",
            "|         553|           7|       4757|00000000386|2023-06-06|       899.0|     0.0|     899.0|            NULL|                   NULL|          NULL|\n",
            "|         553|           7|       4757|00000000466|2023-07-12|       899.0|     0.0|     899.0|            NULL|                   NULL|          NULL|\n",
            "|         553|           7|       4757|00000000535|2023-08-03|       899.0|     0.0|     899.0|            NULL|                   NULL|          NULL|\n",
            "|         553|           7|       4757|00000000625|2023-09-12|       899.0|     0.0|     899.0|            NULL|                   NULL|          NULL|\n",
            "|         553|           7|       4757| 0000000141|2023-03-09|       899.0|     0.0|     899.0|            NULL|                   NULL|          NULL|\n",
            "|         553|           7|       4757|        214|2023-04-10|       899.0|     0.0|     899.0|            NULL|                   NULL|          NULL|\n",
            "|         553|           7|       4757|        301|2023-05-10|       899.0|     0.0|     899.0|            NULL|                   NULL|          NULL|\n",
            "|         553|           7|       1845|     134016|2023-03-09|       173.0|     0.0|     173.0|            NULL|                   NULL|          NULL|\n",
            "|         553|           7|       3223|       1239|2023-08-28|       208.1|     0.0|     208.1|            NULL|                   NULL|          NULL|\n",
            "|         553|           7|       7634|  230310007|2023-03-13|      1560.0|     0.0|    1560.0|            NULL|                   NULL|          NULL|\n",
            "|         553|           7|       7634|     230413|2023-04-13|      1560.0|     0.0|    1560.0|            NULL|                   NULL|          NULL|\n",
            "|         553|           7|       7634|  230513003|2023-05-13|      1560.0|     0.0|    1560.0|            NULL|                   NULL|          NULL|\n",
            "|         553|           7|       7634|  230613003|2023-07-13|      1560.0|     0.0|    1560.0|            NULL|                   NULL|          NULL|\n",
            "|         553|           7|       7634| 230713/004|2023-08-13|      1248.0|     0.0|    1248.0|            NULL|                   NULL|          NULL|\n",
            "|         553|           7|       7634| 230813/002|2023-09-13|       780.0|     0.0|     780.0|            NULL|                   NULL|          NULL|\n",
            "|         553|           4|       3580|     308296|2023-03-26|      220.41|     0.0|    220.41|            NULL|                   NULL|          NULL|\n",
            "|         553|           4|       3580|     309005|2023-03-29|       150.0|     0.0|     150.0|            NULL|                   NULL|          NULL|\n",
            "|         553|           4|       3580|     309524|2023-03-30|       150.0|     0.0|     150.0|            NULL|                   NULL|          NULL|\n",
            "|         553|           4|       3580|     312052|2023-04-09|       100.0|     0.0|     100.0|            NULL|                   NULL|          NULL|\n",
            "+------------+------------+-----------+-----------+----------+------------+--------+----------+----------------+-----------------------+--------------+\n",
            "only showing top 20 rows\n",
            "\n"
          ]
        }
      ]
    },
    {
      "cell_type": "code",
      "source": [
        "categoria.printSchema()"
      ],
      "metadata": {
        "colab": {
          "base_uri": "https://localhost:8080/"
        },
        "id": "vbjVRb8v8VIp",
        "outputId": "8121b465-4e67-4f78-aebc-2786d2532411"
      },
      "execution_count": null,
      "outputs": [
        {
          "output_type": "stream",
          "name": "stdout",
          "text": [
            "root\n",
            " |-- id_categoria: long (nullable = false)\n",
            " |-- txtDescricao: string (nullable = true)\n",
            "\n"
          ]
        }
      ]
    },
    {
      "cell_type": "code",
      "source": [
        "categoria = categoria.withColumn('id_categoria', categoria['id_categoria'].cast(IntegerType()))\n",
        "categoria.printSchema()"
      ],
      "metadata": {
        "colab": {
          "base_uri": "https://localhost:8080/"
        },
        "id": "KaYMFHNJ__hj",
        "outputId": "fe3844b0-92e9-44c0-ecb5-df7dd1768c51"
      },
      "execution_count": null,
      "outputs": [
        {
          "output_type": "stream",
          "name": "stdout",
          "text": [
            "root\n",
            " |-- id_categoria: integer (nullable = false)\n",
            " |-- txtDescricao: string (nullable = true)\n",
            "\n"
          ]
        }
      ]
    },
    {
      "cell_type": "code",
      "source": [
        "empresas.printSchema()"
      ],
      "metadata": {
        "colab": {
          "base_uri": "https://localhost:8080/"
        },
        "id": "eU4BdMhF8f8w",
        "outputId": "62c3cdfb-94cf-4d88-9835-82eca4c96aad"
      },
      "execution_count": null,
      "outputs": [
        {
          "output_type": "stream",
          "name": "stdout",
          "text": [
            "root\n",
            " |-- id_empresas: long (nullable = false)\n",
            " |-- txtFornecedor: string (nullable = true)\n",
            "\n"
          ]
        }
      ]
    },
    {
      "cell_type": "code",
      "source": [
        "empresas = empresas.withColumn('id_empresas', empresas['id_empresas'].cast(IntegerType()))\n",
        "empresas.printSchema()"
      ],
      "metadata": {
        "colab": {
          "base_uri": "https://localhost:8080/"
        },
        "id": "ATGk-2cIATp0",
        "outputId": "fbd539f9-c9a1-462b-8b6a-a9bc0faece81"
      },
      "execution_count": null,
      "outputs": [
        {
          "output_type": "stream",
          "name": "stdout",
          "text": [
            "root\n",
            " |-- id_empresas: integer (nullable = false)\n",
            " |-- txtFornecedor: string (nullable = true)\n",
            "\n"
          ]
        }
      ]
    },
    {
      "cell_type": "code",
      "source": [
        "deputados.printSchema()"
      ],
      "metadata": {
        "colab": {
          "base_uri": "https://localhost:8080/"
        },
        "id": "K3VQUCi-8ijX",
        "outputId": "1a3fba74-3de7-4ad2-ff3c-7a1f3af39ef8"
      },
      "execution_count": null,
      "outputs": [
        {
          "output_type": "stream",
          "name": "stdout",
          "text": [
            "root\n",
            " |-- id_deputados: long (nullable = false)\n",
            " |-- ideCadastro: string (nullable = true)\n",
            " |-- cpf: string (nullable = true)\n",
            " |-- txNomeParlamentar: string (nullable = true)\n",
            " |-- nuDeputadoId: string (nullable = true)\n",
            " |-- sgUF: string (nullable = true)\n",
            " |-- codLegislatura: string (nullable = true)\n",
            "\n"
          ]
        }
      ]
    },
    {
      "cell_type": "code",
      "source": [
        "deputados = deputados.withColumn('id_deputados', deputados['id_deputados'].cast(IntegerType()))\n",
        "deputados = deputados.withColumn('ideCadastro', deputados['ideCadastro'].cast(IntegerType()))\n",
        "deputados = deputados.withColumn('nuDeputadoId', deputados['nuDeputadoId'].cast(IntegerType()))\n",
        "deputados.printSchema()"
      ],
      "metadata": {
        "colab": {
          "base_uri": "https://localhost:8080/"
        },
        "id": "Hfki9LmL8m4P",
        "outputId": "f96a1928-68dc-4b09-d02e-6aadf9a1758d"
      },
      "execution_count": null,
      "outputs": [
        {
          "output_type": "stream",
          "name": "stdout",
          "text": [
            "root\n",
            " |-- id_deputados: integer (nullable = false)\n",
            " |-- ideCadastro: integer (nullable = true)\n",
            " |-- cpf: string (nullable = true)\n",
            " |-- txNomeParlamentar: string (nullable = true)\n",
            " |-- nuDeputadoId: integer (nullable = true)\n",
            " |-- sgUF: string (nullable = true)\n",
            " |-- codLegislatura: string (nullable = true)\n",
            "\n"
          ]
        }
      ]
    },
    {
      "cell_type": "code",
      "source": [
        "gastos.createOrReplaceTempView('gastos')\n",
        "deputados.createOrReplaceTempView('deputados')\n",
        "empresas.createOrReplaceTempView('empresas')\n",
        "categoria.createOrReplaceTempView('categoria')\n",
        "fato_gastos.createOrReplaceTempView('fato_gastos')"
      ],
      "metadata": {
        "id": "xpEidLXjB6er"
      },
      "execution_count": null,
      "outputs": []
    },
    {
      "cell_type": "code",
      "source": [
        "# Flat Table de Validação\n",
        "flat_table = spark.sql(\n",
        "    '''\n",
        "    SELECT\n",
        "      deputados.txNomeParlamentar,\n",
        "      categoria.txtDescricao,\n",
        "      empresas.txtFornecedor,\n",
        "      fato_gastos.vlrLiquido\n",
        "\n",
        "\n",
        "    FROM fato_gastos\n",
        "    INNER JOIN deputados on deputados.id_deputados = fato_gastos.id_deputados\n",
        "    INNER JOIN categoria on categoria.id_categoria = fato_gastos.id_categoria\n",
        "    INNER JOIN empresas on empresas.id_empresas = fato_gastos.id_empresas\n",
        "\n",
        "    LIMIT 10\n",
        "    '''\n",
        ")\n",
        "\n",
        "flat_table.show()"
      ],
      "metadata": {
        "colab": {
          "base_uri": "https://localhost:8080/"
        },
        "id": "4HVz4nyTBdc3",
        "outputId": "d6e96a03-648a-48e4-9864-a9b94f66eed6"
      },
      "execution_count": null,
      "outputs": [
        {
          "output_type": "stream",
          "name": "stdout",
          "text": [
            "+-----------------+--------------------+--------------------+----------+\n",
            "|txNomeParlamentar|        txtDescricao|       txtFornecedor|vlrLiquido|\n",
            "+-----------------+--------------------+--------------------+----------+\n",
            "|       LID.GOV-CD|MANUTENÇÃO DE ESC...|AMORETTO CAFES EX...|     899.0|\n",
            "|       LID.GOV-CD|MANUTENÇÃO DE ESC...|AMORETTO CAFES EX...|     899.0|\n",
            "|       LID.GOV-CD|MANUTENÇÃO DE ESC...|AMORETTO CAFES EX...|     899.0|\n",
            "|       LID.GOV-CD|MANUTENÇÃO DE ESC...|AMORETTO CAFES EX...|     899.0|\n",
            "|       LID.GOV-CD|MANUTENÇÃO DE ESC...|AMORETTO CAFES EX...|     899.0|\n",
            "|       LID.GOV-CD|MANUTENÇÃO DE ESC...|AMORETTO CAFES EX...|     899.0|\n",
            "|       LID.GOV-CD|MANUTENÇÃO DE ESC...|AMORETTO CAFES EX...|     899.0|\n",
            "|       LID.GOV-CD|MANUTENÇÃO DE ESC...|AMORETTO CAFES EX...|     899.0|\n",
            "|       LID.GOV-CD|MANUTENÇÃO DE ESC...|COMERCIAL PAPIROS...|     173.0|\n",
            "|       LID.GOV-CD|MANUTENÇÃO DE ESC...|CONNECT INFORMATI...|     208.1|\n",
            "+-----------------+--------------------+--------------------+----------+\n",
            "\n"
          ]
        }
      ]
    },
    {
      "cell_type": "code",
      "source": [
        "fato_gastos.printSchema()"
      ],
      "metadata": {
        "id": "HRo9tq7tYdnB",
        "colab": {
          "base_uri": "https://localhost:8080/"
        },
        "outputId": "a35996b6-b419-4f80-bcc5-09aa7a608159"
      },
      "execution_count": null,
      "outputs": [
        {
          "output_type": "stream",
          "name": "stdout",
          "text": [
            "root\n",
            " |-- id_deputados: integer (nullable = false)\n",
            " |-- id_categoria: integer (nullable = false)\n",
            " |-- id_empresas: long (nullable = false)\n",
            " |-- txtNumero: string (nullable = true)\n",
            " |-- datEmissao: date (nullable = true)\n",
            " |-- vlrDocumento: float (nullable = true)\n",
            " |-- vlrGlosa: float (nullable = true)\n",
            " |-- vlrLiquido: float (nullable = true)\n",
            " |-- numRessarcimento: string (nullable = true)\n",
            " |-- datPagamentoRestituicao: string (nullable = true)\n",
            " |-- vlrRestituicao: float (nullable = true)\n",
            "\n"
          ]
        }
      ]
    },
    {
      "cell_type": "code",
      "source": [
        "categoria.printSchema()"
      ],
      "metadata": {
        "colab": {
          "base_uri": "https://localhost:8080/"
        },
        "id": "YWuy5ejQYnug",
        "outputId": "57ef351a-61ed-4c02-d92a-2e7ef5ddc9d9"
      },
      "execution_count": null,
      "outputs": [
        {
          "output_type": "stream",
          "name": "stdout",
          "text": [
            "root\n",
            " |-- id_categoria: integer (nullable = false)\n",
            " |-- txtDescricao: string (nullable = true)\n",
            "\n"
          ]
        }
      ]
    },
    {
      "cell_type": "code",
      "source": [
        "deputados.printSchema()"
      ],
      "metadata": {
        "colab": {
          "base_uri": "https://localhost:8080/"
        },
        "id": "WaP2O0TnZCIp",
        "outputId": "120d9811-d7c6-449d-f1f8-d15aa89491ed"
      },
      "execution_count": null,
      "outputs": [
        {
          "output_type": "stream",
          "name": "stdout",
          "text": [
            "root\n",
            " |-- id_deputados: integer (nullable = false)\n",
            " |-- ideCadastro: integer (nullable = true)\n",
            " |-- cpf: string (nullable = true)\n",
            " |-- txNomeParlamentar: string (nullable = true)\n",
            " |-- nuDeputadoId: integer (nullable = true)\n",
            " |-- sgUF: string (nullable = true)\n",
            " |-- codLegislatura: string (nullable = true)\n",
            "\n"
          ]
        }
      ]
    },
    {
      "cell_type": "code",
      "source": [
        "empresas.printSchema()"
      ],
      "metadata": {
        "colab": {
          "base_uri": "https://localhost:8080/"
        },
        "id": "h605AvKmN8FX",
        "outputId": "8f4037b9-4512-4c5a-84c3-63d4683339e9"
      },
      "execution_count": null,
      "outputs": [
        {
          "output_type": "stream",
          "name": "stdout",
          "text": [
            "root\n",
            " |-- id_empresas: integer (nullable = false)\n",
            " |-- txtFornecedor: string (nullable = true)\n",
            "\n"
          ]
        }
      ]
    },
    {
      "cell_type": "code",
      "source": [
        "deputados.write.csv('dim_deputados', header=True, mode=\"overwrite\")\n",
        "categoria.write.csv('dim_categoria', header=True, mode=\"overwrite\")\n",
        "empresas.write.csv('dim_empresas', header=True, mode=\"overwrite\")\n",
        "fato_gastos.write.csv('fato_gastos', header=True, mode=\"overwrite\")"
      ],
      "metadata": {
        "id": "P3Tf5qAWZtxo"
      },
      "execution_count": null,
      "outputs": []
    },
    {
      "cell_type": "code",
      "source": [],
      "metadata": {
        "id": "UzXG_s5ubVZi"
      },
      "execution_count": null,
      "outputs": []
    }
  ]
}